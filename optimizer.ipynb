{
 "cells": [
  {
   "cell_type": "code",
   "execution_count": 100,
   "metadata": {},
   "outputs": [],
   "source": [
    "import numpy as np\n",
    "from qiskit import *\n",
    "from qiskit_machine_learning.algorithms.classifiers import VQC\n",
    "from qiskit import BasicAer\n",
    "from qiskit.utils import QuantumInstance, algorithm_globals\n",
    "from qiskit.algorithms.optimizers import SPSA, ADAM\n",
    "from qiskit.circuit.library import TwoLocal, ZZFeatureMap, RealAmplitudes\n",
    "from qiskit.quantum_info import Statevector\n",
    "\n"
   ]
  },
  {
   "cell_type": "code",
   "execution_count": 82,
   "metadata": {},
   "outputs": [],
   "source": [
    "n = 4\n",
    "class_labels = [0, 1]"
   ]
  },
  {
   "cell_type": "code",
   "execution_count": 98,
   "metadata": {},
   "outputs": [
    {
     "data": {
      "text/plain": [
       "<qiskit.circuit.instructionset.InstructionSet at 0x7fda53fc7820>"
      ]
     },
     "execution_count": 98,
     "metadata": {},
     "output_type": "execute_result"
    }
   ],
   "source": [
    "# toy circuit for testing purposes\n",
    "q_reg = QuantumRegister(4)\n",
    "c_reg = ClassicalRegister(1)\n",
    "\n",
    "cirq = QuantumCircuit(q_reg, c_reg)\n",
    "cirq.ry(2, 0)\n",
    "\n",
    "cirq.measure(q_reg[0], c_reg)\n"
   ]
  },
  {
   "cell_type": "markdown",
   "metadata": {},
   "source": [
    "# Reading Output\n",
    "\n",
    "After applying the feature map and executing the parametrized circuit, the probability that the measurement of the qubit results in the state $\\ket{1}$ is expressed as $$\\sum_{k=2^{n-1} + 1}^{2^n} |(U_\\theta (\\phi(x)))_k|^2$$\n",
    "To resolve the probabilitic problem here, we may 'sample' the circuit some $S$ times to estimate $p(q_0=1)$ from $s_1, \\cdots s_S$"
   ]
  },
  {
   "cell_type": "code",
   "execution_count": 96,
   "metadata": {},
   "outputs": [
    {
     "name": "stdout",
     "output_type": "stream",
     "text": [
      "{0: 0.26, 1: 0.74}\n"
     ]
    }
   ],
   "source": [
    "# Read out input \n",
    "\n",
    "from concurrent.futures import process\n",
    "\n",
    "# Measure and process output\n",
    "def process_output(circuit, quantum_reg, classical_reg):\n",
    "    s = 100 # arbitrary S, will shift to match output later\n",
    "    arr = []\n",
    "\n",
    "    simulator = Aer.get_backend('aer_simulator')\n",
    "\n",
    "    job = execute(circuit, simulator, shots=s)\n",
    "    result = job.result()\n",
    "    counts = result.get_counts(circuit)\n",
    "    return counts\n",
    "\n",
    "# Return probabilities\n",
    "def probabilities(counts, labels, shots=100):\n",
    "    result_dict = {labels[0]: 0, labels[1]: 0}\n",
    "    for key, value in counts.items():\n",
    "        label_val = key[-1]\n",
    "        if int(label_val) == 0:\n",
    "            result_dict[labels[0]] = value / shots\n",
    "        if int(label_val) == 1:\n",
    "            result_dict[labels[1]] = value / shots\n",
    "\n",
    "    return result_dict\n",
    "\n",
    "def data_dictionary(parameters, x, feature_map, var_form):\n",
    "    p = {}\n",
    "    for i, param in enumerate(feature_map.ordered_parameters):\n",
    "        p[param] = x[i]\n",
    "    for i, param in enumerate(var_form.ordered_parameters):\n",
    "        p[param] = parameters[i]\n",
    "    return p\n",
    "\n",
    "\n",
    "def classification(x_array, parameters, labels, statevector, circuit, feature_map, var_form):\n",
    "    circs = []\n",
    "    prob = []\n",
    "    for x in x_array:\n",
    "        circ = circuit.assign_parameters(data_dictionary(parameters, x, feature_map, var_form))\n",
    "        cirq = statevector.evolve(circ)\n",
    "        circs.append(cirq)\n",
    "    for q in circs:\n",
    "        counts = q.to_counts()\n",
    "        temp = probabilities(counts, labels)\n",
    "        prob.append(temp)\n",
    "    return prob\n",
    "\n",
    "print(probabilities(process_output(cirq, q_reg, c_reg), [0, 1], 100))"
   ]
  },
  {
   "cell_type": "markdown",
   "metadata": {},
   "source": [
    "# Calculating a Gradient\n",
    "\n",
    "As described by Schuld et. al in *Circuit-centric quantum classifiers*, we can compute a gradient for the function we are to optimize with something known as the parameter shift rule. Further described by Crooks in *Gradients of parameterized quantum gates using the parameter-shift rule and gate decomposition*, we can express this rule as \n",
    "$$\\frac{d}{d\\theta} f(\\theta) = r\\left[f\\left(\\theta + \\frac{\\pi}{4r}\\right) - f\\left(\\theta - \\frac{\\pi}{4r}\\right) \\right]$$\n",
    "where the shift constant $r = \\frac{a}{2} (e_1 - e_0)$ and $e_1,\\ e_0$ are eigenvalues of the unitary gate $G$.\n",
    "\n",
    "# Cost Function\n",
    "In actual practice, we must define a cost function that will define how \"well\" our proposed parameters are doing. \n",
    "This can be expressed as (according to Rodney Osodo) \n",
    "$$L = \\frac{1}{N} \\sum_{i=1}^n (y_i^{truth} - f(\\omega, b, x_i))^2$$\n",
    "We can use defined optimization algorithms like SPSA to then optimize the parameters."
   ]
  },
  {
   "cell_type": "code",
   "execution_count": 85,
   "metadata": {},
   "outputs": [],
   "source": [
    "# finding mean squared error\n",
    "def mse(probabilities, expected):\n",
    "    probability = probabilities[expected]\n",
    "    return (1 - probability) ** 2\n",
    "\n",
    "# defining continuous cost function\n",
    "def cost(X, Y, labels, parameters, statevector, circuit, feature_map, var_form, shots=100):\n",
    "    cost = 0\n",
    "    training_labels = []\n",
    "    training_samples = []\n",
    "    for sample in X:\n",
    "        training_samples.append(sample)\n",
    "\n",
    "    for label in Y:\n",
    "        if label == 0:\n",
    "            training_labels.append(labels[0])\n",
    "        else:\n",
    "            training_labels.append(labels[1])\n",
    "\n",
    "    prob = classification(training_samples, parameters, labels, statevector, circuit, feature_map, var_form)\n",
    "\n",
    "    for i in range(len(prob)):\n",
    "        cost += mse(prob[i], training_labels[i])\n",
    "    \n",
    "    cost /= len(training_samples)\n",
    "\n",
    "    return cost"
   ]
  },
  {
   "cell_type": "markdown",
   "metadata": {},
   "source": [
    "# Optimizing\n",
    "\n",
    "The ADAM Optimizer function from the qiskit library will be used."
   ]
  },
  {
   "cell_type": "code",
   "execution_count": 102,
   "metadata": {},
   "outputs": [],
   "source": [
    "from cmath import pi\n",
    "from random import random\n",
    "from qiskit.opflow.gradients import Gradient\n",
    "\n",
    "# attempting to use ADAM optimizer\n",
    "def optimizing(trainingX, testingX, trainingY, testingY, labels):\n",
    "    optimizer = ADAM(maxiter=100)\n",
    "\n",
    "    target_func = lambda parameters: cost(trainingX, trainingY, labels, parameters)\n",
    "    gradient = Gradient('param_shift')\n",
    "    initial_parameters = []\n",
    "    for i in range(n):\n",
    "\n",
    "        initial_parameters.append(2 * pi * random())   \n",
    "    print(target_func(initial_parameters))\n",
    "\n",
    "    # optimal_parameters, value, aux = optimizer.minimize(target_func)"
   ]
  },
  {
   "cell_type": "code",
   "execution_count": 107,
   "metadata": {},
   "outputs": [
    {
     "ename": "TypeError",
     "evalue": "cost() missing 4 required positional arguments: 'statevector', 'circuit', 'feature_map', and 'var_form'",
     "output_type": "error",
     "traceback": [
      "\u001b[0;31m---------------------------------------------------------------------------\u001b[0m",
      "\u001b[0;31mTypeError\u001b[0m                                 Traceback (most recent call last)",
      "\u001b[1;32m/home/ace/scripts/quantum_final_project/optimizer.ipynb Cell 11\u001b[0m in \u001b[0;36m<cell line: 19>\u001b[0;34m()\u001b[0m\n\u001b[1;32m     <a href='vscode-notebook-cell:/home/ace/scripts/quantum_final_project/optimizer.ipynb#ch0000010?line=15'>16</a>\u001b[0m trainingX, testingX, trainingY, testingY \u001b[39m=\u001b[39m read_data(\u001b[39m\"\u001b[39m\u001b[39mData/cleanedHeartData.csv\u001b[39m\u001b[39m\"\u001b[39m)\n\u001b[1;32m     <a href='vscode-notebook-cell:/home/ace/scripts/quantum_final_project/optimizer.ipynb#ch0000010?line=16'>17</a>\u001b[0m initial_parameters \u001b[39m=\u001b[39m []\n\u001b[0;32m---> <a href='vscode-notebook-cell:/home/ace/scripts/quantum_final_project/optimizer.ipynb#ch0000010?line=18'>19</a>\u001b[0m optimizing(trainingX, testingX, trainingY, testingY, [\u001b[39m0\u001b[39;49m, \u001b[39m1\u001b[39;49m])\n",
      "\u001b[1;32m/home/ace/scripts/quantum_final_project/optimizer.ipynb Cell 11\u001b[0m in \u001b[0;36moptimizing\u001b[0;34m(trainingX, testingX, trainingY, testingY, labels)\u001b[0m\n\u001b[1;32m     <a href='vscode-notebook-cell:/home/ace/scripts/quantum_final_project/optimizer.ipynb#ch0000010?line=11'>12</a>\u001b[0m \u001b[39mfor\u001b[39;00m i \u001b[39min\u001b[39;00m \u001b[39mrange\u001b[39m(n):\n\u001b[1;32m     <a href='vscode-notebook-cell:/home/ace/scripts/quantum_final_project/optimizer.ipynb#ch0000010?line=13'>14</a>\u001b[0m     initial_parameters\u001b[39m.\u001b[39mappend(\u001b[39m2\u001b[39m \u001b[39m*\u001b[39m pi \u001b[39m*\u001b[39m random())   \n\u001b[0;32m---> <a href='vscode-notebook-cell:/home/ace/scripts/quantum_final_project/optimizer.ipynb#ch0000010?line=14'>15</a>\u001b[0m \u001b[39mprint\u001b[39m(target_func(initial_parameters))\n",
      "\u001b[1;32m/home/ace/scripts/quantum_final_project/optimizer.ipynb Cell 11\u001b[0m in \u001b[0;36moptimizing.<locals>.<lambda>\u001b[0;34m(parameters)\u001b[0m\n\u001b[1;32m      <a href='vscode-notebook-cell:/home/ace/scripts/quantum_final_project/optimizer.ipynb#ch0000010?line=5'>6</a>\u001b[0m \u001b[39mdef\u001b[39;00m \u001b[39moptimizing\u001b[39m(trainingX, testingX, trainingY, testingY, labels):\n\u001b[1;32m      <a href='vscode-notebook-cell:/home/ace/scripts/quantum_final_project/optimizer.ipynb#ch0000010?line=6'>7</a>\u001b[0m     optimizer \u001b[39m=\u001b[39m ADAM(maxiter\u001b[39m=\u001b[39m\u001b[39m100\u001b[39m)\n\u001b[0;32m----> <a href='vscode-notebook-cell:/home/ace/scripts/quantum_final_project/optimizer.ipynb#ch0000010?line=8'>9</a>\u001b[0m     target_func \u001b[39m=\u001b[39m \u001b[39mlambda\u001b[39;00m parameters: cost(trainingX, trainingY, labels, parameters)\n\u001b[1;32m     <a href='vscode-notebook-cell:/home/ace/scripts/quantum_final_project/optimizer.ipynb#ch0000010?line=9'>10</a>\u001b[0m     gradient \u001b[39m=\u001b[39m Gradient(\u001b[39m'\u001b[39m\u001b[39mparam_shift\u001b[39m\u001b[39m'\u001b[39m)\n\u001b[1;32m     <a href='vscode-notebook-cell:/home/ace/scripts/quantum_final_project/optimizer.ipynb#ch0000010?line=10'>11</a>\u001b[0m     initial_parameters \u001b[39m=\u001b[39m []\n",
      "\u001b[0;31mTypeError\u001b[0m: cost() missing 4 required positional arguments: 'statevector', 'circuit', 'feature_map', and 'var_form'"
     ]
    }
   ],
   "source": [
    "import pandas as pd\n",
    "from sklearn.model_selection import train_test_split\n",
    "from sklearn.preprocessing import normalize\n",
    "\n",
    "# reading in data\n",
    "def read_data(path):\n",
    "    data = pd.read_csv(path)\n",
    "    X, Y = data[['Oldpeak', 'ExerciseAngina', 'FastingBS', 'Sex']].values, data['HeartDisease'].values\n",
    "\n",
    "    X = normalize(X)\n",
    "\n",
    "    trainingX, testingX, trainingY, testingY = train_test_split(X, Y, test_size=0.3)\n",
    "    # ax = data.plot.scatter(x='Sex', y='HeartDisease', c='darkblue')\n",
    "    return trainingX, testingX, trainingY, testingY\n",
    "    \n",
    "trainingX, testingX, trainingY, testingY = read_data(\"Data/cleanedHeartData.csv\")\n",
    "initial_parameters = []\n",
    "\n",
    "optimizing(trainingX, testingX, trainingY, testingY, [0, 1])\n",
    "\n",
    "\n"
   ]
  },
  {
   "cell_type": "code",
   "execution_count": null,
   "metadata": {},
   "outputs": [],
   "source": [
    "# measuring the accuracy of the model\n",
    "def test_model(X, Y, labels, parameters):\n",
    "    accuracy = 0\n",
    "    training_samples = [sample for sample in X]\n",
    "\n",
    "    probability = classification(training_samples, parameters, labels)\n",
    "\n",
    "    for i in len(probability):\n",
    "        if (probability[i].get(labels[0]) >= probability[i].get(labels[1]) and Y[i] == 0):\n",
    "            accuracy += 1\n",
    "        elif (probability[i].get(labels[1]) >= probability[i].get(labels[0]) and Y[i] == 1):\n",
    "            accuracy += 1\n",
    "    \n",
    "    accuracy /= len(Y)\n",
    "    print(f\"Accuracy: {accuracy}\")"
   ]
  }
 ],
 "metadata": {
  "kernelspec": {
   "display_name": "Python 3.8.10 64-bit",
   "language": "python",
   "name": "python3"
  },
  "language_info": {
   "codemirror_mode": {
    "name": "ipython",
    "version": 3
   },
   "file_extension": ".py",
   "mimetype": "text/x-python",
   "name": "python",
   "nbconvert_exporter": "python",
   "pygments_lexer": "ipython3",
   "version": "3.8.10"
  },
  "orig_nbformat": 4,
  "vscode": {
   "interpreter": {
    "hash": "916dbcbb3f70747c44a77c7bcd40155683ae19c65e1c03b4aa3499c5328201f1"
   }
  }
 },
 "nbformat": 4,
 "nbformat_minor": 2
}
