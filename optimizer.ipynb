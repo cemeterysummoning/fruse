{
 "cells": [
  {
   "cell_type": "code",
   "execution_count": 8,
   "metadata": {},
   "outputs": [],
   "source": [
    "import numpy as np\n",
    "from qiskit import *\n",
    "# from qiskit_machine_learning.algorithms.classifiers import VQC\n",
    "# from qiskit import BasicAer\n",
    "# from qiskit.utils import QuantumInstance, algorithm_globals\n",
    "# from qiskit.algorithms.optimizers import SPSA\n",
    "# from qiskit.circuit.library import TwoLocal, ZZFeatureMap\n",
    "# from qiskit_machine_learning.datasets import ad_hoc_data\n"
   ]
  },
  {
   "cell_type": "code",
   "execution_count": 11,
   "metadata": {},
   "outputs": [
    {
     "data": {
      "text/plain": [
       "<qiskit.circuit.instructionset.InstructionSet at 0x7f2d5de73670>"
      ]
     },
     "execution_count": 11,
     "metadata": {},
     "output_type": "execute_result"
    }
   ],
   "source": [
    "q_reg = QuantumRegister(4)\n",
    "c_reg = ClassicalRegister(1)\n",
    "\n",
    "cirq = QuantumCircuit(q_reg, c_reg)\n",
    "cirq.h(0)\n",
    "\n",
    "cirq.measure(q_reg[0], c_reg)\n"
   ]
  },
  {
   "cell_type": "markdown",
   "metadata": {},
   "source": [
    "# Reading Output\n",
    "\n",
    "After applying the feature map and executing the parametrized circuit, the probability that the measurement of the qubit results in the state $\\ket{1}$ is expressed as $$\\sum_{k=2^{n-1} + 1}^{2^n} |(U_\\theta (\\phi(x)))_k|^2$$\n",
    "To resolve the probabilitic problem here, we may 'sample' the circuit some $S$ times to estimate $p(q_0=1)$ from $s_1, \\cdots s_S$"
   ]
  },
  {
   "cell_type": "code",
   "execution_count": 12,
   "metadata": {},
   "outputs": [
    {
     "name": "stdout",
     "output_type": "stream",
     "text": [
      "{'0': 46, '1': 54}\n"
     ]
    }
   ],
   "source": [
    "# Read out input \n",
    "\n",
    "def process(circuit, quantum_reg, classical_reg):\n",
    "    s = 100 # arbitrary S, will shift to match output later\n",
    "    arr = []\n",
    "\n",
    "    simulator = Aer.get_backend('aer_simulator')\n",
    "\n",
    "    job = execute(circuit, simulator, shots=s)\n",
    "    result = job.result()\n",
    "    counts = result.get_counts(circuit)\n",
    "    return counts\n",
    "\n",
    "print(process(cirq, q_reg, c_reg))"
   ]
  }
 ],
 "metadata": {
  "kernelspec": {
   "display_name": "Python 3.8.10 64-bit",
   "language": "python",
   "name": "python3"
  },
  "language_info": {
   "codemirror_mode": {
    "name": "ipython",
    "version": 3
   },
   "file_extension": ".py",
   "mimetype": "text/x-python",
   "name": "python",
   "nbconvert_exporter": "python",
   "pygments_lexer": "ipython3",
   "version": "3.8.10"
  },
  "orig_nbformat": 4,
  "vscode": {
   "interpreter": {
    "hash": "916dbcbb3f70747c44a77c7bcd40155683ae19c65e1c03b4aa3499c5328201f1"
   }
  }
 },
 "nbformat": 4,
 "nbformat_minor": 2
}
