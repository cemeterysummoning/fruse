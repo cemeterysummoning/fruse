{
 "cells": [
  {
   "cell_type": "code",
   "execution_count": 3,
   "metadata": {},
   "outputs": [],
   "source": [
    "import numpy as np\n",
    "from qiskit import *\n",
    "# from qiskit_machine_learning.algorithms.classifiers import VQC\n",
    "# from qiskit import BasicAer\n",
    "# from qiskit.utils import QuantumInstance, algorithm_globals\n",
    "# from qiskit.algorithms.optimizers import SPSA\n",
    "# from qiskit.circuit.library import TwoLocal, ZZFeatureMap\n",
    "# from qiskit_machine_learning.datasets import ad_hoc_data\n"
   ]
  },
  {
   "cell_type": "code",
   "execution_count": 11,
   "metadata": {},
   "outputs": [
    {
     "data": {
      "text/plain": [
       "<qiskit.circuit.instructionset.InstructionSet at 0x7f51a99d46a0>"
      ]
     },
     "execution_count": 11,
     "metadata": {},
     "output_type": "execute_result"
    }
   ],
   "source": [
    "q_reg = QuantumRegister(4)\n",
    "c_reg = ClassicalRegister(1)\n",
    "\n",
    "cirq = QuantumCircuit(q_reg, c_reg)\n",
    "cirq.ry(2, 0)\n",
    "\n",
    "cirq.measure(q_reg[0], c_reg)\n"
   ]
  },
  {
   "cell_type": "markdown",
   "metadata": {},
   "source": [
    "# Reading Output\n",
    "\n",
    "After applying the feature map and executing the parametrized circuit, the probability that the measurement of the qubit results in the state $\\ket{1}$ is expressed as $$\\sum_{k=2^{n-1} + 1}^{2^n} |(U_\\theta (\\phi(x)))_k|^2$$\n",
    "To resolve the probabilitic problem here, we may 'sample' the circuit some $S$ times to estimate $p(q_0=1)$ from $s_1, \\cdots s_S$"
   ]
  },
  {
   "cell_type": "code",
   "execution_count": 21,
   "metadata": {},
   "outputs": [
    {
     "name": "stdout",
     "output_type": "stream",
     "text": [
      "{0: 0.21, 1: 0.79}\n"
     ]
    }
   ],
   "source": [
    "# Read out input \n",
    "\n",
    "from concurrent.futures import process\n",
    "\n",
    "# Measure and process output\n",
    "def process_output(circuit, quantum_reg, classical_reg):\n",
    "    s = 100 # arbitrary S, will shift to match output later\n",
    "    arr = []\n",
    "\n",
    "    simulator = Aer.get_backend('aer_simulator')\n",
    "\n",
    "    job = execute(circuit, simulator, shots=s)\n",
    "    result = job.result()\n",
    "    counts = result.get_counts(circuit)\n",
    "    return counts\n",
    "\n",
    "# Return probabilities\n",
    "def probabilities(counts, labels, shots=100):\n",
    "    result_dict = {labels[0]: 0, labels[1]: 0}\n",
    "    for key, value in counts.items():\n",
    "        label_val = key[-1]\n",
    "        if int(label_val) == 0:\n",
    "            result_dict[labels[0]] = value / shots\n",
    "        if int(label_val) == 1:\n",
    "            result_dict[labels[1]] = value / shots\n",
    "\n",
    "    return result_dict\n",
    "\n",
    "def data_dictionary(parameters, x, feature_map, var_form):\n",
    "    p = {}\n",
    "    for i, param in enumerate(feature_map.ordered_parameters):\n",
    "        p[param] = x[i]\n",
    "    for i, param in enumerate(var_form.ordered_parameters):\n",
    "        p[param] = parameters[i]\n",
    "    return p\n",
    "\n",
    "def classification(x_array, parameters, labels, statevector, circuit):\n",
    "    circs = []\n",
    "    prob = []\n",
    "    for x in x_array:\n",
    "        circ = circuit.assign_parameters(data_dictionary(parameters, x))\n",
    "        cirq = statevector.evolve(circ)\n",
    "        circs.append(cirq)\n",
    "    for q in circs:\n",
    "        counts = q.to_counts()\n",
    "        temp = probabilities(counts, labels)\n",
    "        prob.append(temp)\n",
    "    return prob\n",
    "\n",
    "print(probabilities(process_output(cirq, q_reg, c_reg), [0, 1], 100))"
   ]
  },
  {
   "cell_type": "markdown",
   "metadata": {},
   "source": [
    "# Calculating a Gradient\n",
    "\n",
    "As described by Schuld et. al in *Circuit-centric quantum classifiers*, we can compute a gradient for the function we are to optimize with something known as the parameter shift rule. Further described by Crooks in *Gradients of parameterized quantum gates using the parameter-shift rule and gate decomposition*, we can express this rule as \n",
    "$$\\frac{d}{d\\theta} f(\\theta) = r\\left[f\\left(\\theta + \\frac{\\pi}{4r}\\right) - f\\left(\\theta - \\frac{\\pi}{4r}\\right) \\right]$$\n",
    "where the shift constant $r = \\frac{a}{2} (e_1 - e_0)$ and $e_1,\\ e_0$ are eigenvalues of the unitary gate $G$.\n",
    "\n",
    "# Cost Function\n",
    "In actual practice, we must define a cost function that will define how \"well\" our proposed parameters are doing. \n",
    "This can be expressed as (according to Rodney Osodo) \n",
    "$$L = \\frac{1}{N} \\sum_{i=1}^n (y_i^{truth} - f(\\omega, b, x_i))^2$$\n",
    "We can use defined optimization algorithms like COBYLA to then optimize the parameters."
   ]
  },
  {
   "cell_type": "code",
   "execution_count": 22,
   "metadata": {},
   "outputs": [],
   "source": [
    "def mse(probabilities, expected):\n",
    "    probability = probabilities[expected]\n",
    "    return (1 - probability) ** 2\n",
    "\n",
    "def cost(X, Y, labels, parameters, statevector, shots=100):\n",
    "    cost = 0\n",
    "    training_labels = []\n",
    "    training_samples = []\n",
    "    for sample in X:\n",
    "        training_samples.append(sample)\n",
    "\n",
    "    for label in Y:\n",
    "        if label == 0:\n",
    "            training_labels.append(labels[0])\n",
    "        else:\n",
    "            training_labels.append(labels[1])\n",
    "\n",
    "    prob = classification(training_samples, parameters, labels)\n",
    "\n",
    "    for i in range(len(prob)):\n",
    "        cost += mse(prob[i], training_labels[i])\n",
    "    \n",
    "    cost /= len(training_samples)\n",
    "\n",
    "    return cost\n",
    "\n",
    "    "
   ]
  }
 ],
 "metadata": {
  "kernelspec": {
   "display_name": "Python 3.8.10 64-bit",
   "language": "python",
   "name": "python3"
  },
  "language_info": {
   "codemirror_mode": {
    "name": "ipython",
    "version": 3
   },
   "file_extension": ".py",
   "mimetype": "text/x-python",
   "name": "python",
   "nbconvert_exporter": "python",
   "pygments_lexer": "ipython3",
   "version": "3.8.10"
  },
  "orig_nbformat": 4,
  "vscode": {
   "interpreter": {
    "hash": "916dbcbb3f70747c44a77c7bcd40155683ae19c65e1c03b4aa3499c5328201f1"
   }
  }
 },
 "nbformat": 4,
 "nbformat_minor": 2
}
