{
 "cells": [
  {
   "cell_type": "code",
   "execution_count": 6,
   "metadata": {},
   "outputs": [],
   "source": [
    "import numpy as np\n",
    "from qiskit import *\n",
    "from random import random, randint\n",
    "import matplotlib.pyplot as plt"
   ]
  },
  {
   "cell_type": "code",
   "execution_count": 31,
   "metadata": {},
   "outputs": [],
   "source": [
    "def process_output(circuit, quantum_reg, classical_reg, s):\n",
    "    # s = 100 # arbitrary S, will shift to match output later\n",
    "    arr = []\n",
    "\n",
    "    simulator = Aer.get_backend('aer_simulator')\n",
    "\n",
    "    job = execute(circuit, simulator, shots=s)\n",
    "    result = job.result()\n",
    "    counts = result.get_counts(circuit)\n",
    "    return counts\n",
    "\n",
    "def parity_probabilities(counts, shots=100):\n",
    "    class_0 = 0\n",
    "    class_1 = 0\n",
    "\n",
    "    for keyBefore, value in counts.items():\n",
    "        key = keyBefore.split()[0]\n",
    "        temp = int(key[0]) ^ int(key[1])\n",
    "        for i in range(2, len(key)):\n",
    "            temp = temp ^ int(key[i])\n",
    "        \n",
    "        if temp == 0:\n",
    "            class_0 += value\n",
    "        else:\n",
    "            class_1 += value\n",
    "    return {0: class_0 / shots, 1: class_1 / shots}\n",
    "\n",
    "def rotation(register, angles, qc):\n",
    "\n",
    "    measurement = ClassicalRegister(len(register))\n",
    "    qc.add_register(measurement)\n",
    "    for i in range(len(register)):\n",
    "        qc.ry(angles[i], i)\n",
    "    \n",
    "    for i in range(len(register) - 1, 0, -1):\n",
    "        qc.cx(i, i - 1)\n",
    "\n",
    "    qc.cx(0, len(register) - 1)\n",
    "\n",
    "    qc.measure_all()\n",
    "    s = 100\n",
    "    shots = process_output(qc, register, measurement, 100)\n",
    "    \n",
    "    parity_processed = parity_probabilities(shots)\n",
    "    return parity_processed\n",
    "\n",
    "q = QuantumRegister(4)\n",
    "initial_angles = [2 * np.pi * random() for _ in range(4)]\n",
    "len(q)\n",
    "\n",
    "measured = rotation(q, initial_angles, QuantumCircuit(q))"
   ]
  },
  {
   "cell_type": "code",
   "execution_count": 11,
   "metadata": {},
   "outputs": [
    {
     "data": {
      "text/plain": [
       "<matplotlib.collections.PathCollection at 0x7f46e10a7490>"
      ]
     },
     "execution_count": 11,
     "metadata": {},
     "output_type": "execute_result"
    },
    {
     "data": {
      "image/png": "[encoded data removed]",
      "text/plain": [
       "<Figure size 432x288 with 1 Axes>"
      ]
     },
     "metadata": {
      "needs_background": "light"
     },
     "output_type": "display_data"
    }
   ],
   "source": [
    "# random samples, toy data\n",
    "entries = 32\n",
    "\n",
    "x = []\n",
    "for _ in range(entries):\n",
    "    temp = 20 * random()\n",
    "    while temp in x:\n",
    "        temp = 20 * random()\n",
    "    x.append(temp)\n",
    "\n",
    "y = [randint(0, 1) for _ in range(entries)]\n",
    "\n",
    "plt.scatter(x, y)"
   ]
  },
  {
   "cell_type": "code",
   "execution_count": null,
   "metadata": {},
   "outputs": [],
   "source": []
  },
  {
   "cell_type": "markdown",
   "metadata": {},
   "source": [
    "def mse(shots_count, expected_value):\n",
    "    probability_of_expected = shots_count[expected_value]\n",
    "    return (1 - probability_of_expected) ** 2\n",
    "\n",
    "# y_values are either 0, 1\n",
    "# received_measurements are the dictionary of probabilities\n",
    "def count_costs(x_values, y_values, angles, received_measurements):\n",
    "    cost = 0\n",
    "\n",
    "    for i in range(len(x_values)):\n",
    "        cost += mse(received_measurements[i], y_values[i])\n",
    "    \n",
    "    return cost / len(x_values)\n",
    "\n",
    "count_costs(x, y, initial_angles, )\n"
   ]
  },
  {
   "cell_type": "code",
   "execution_count": null,
   "metadata": {},
   "outputs": [],
   "source": [
    "def derivative_right(previous, current, delta):\n",
    "    return (current - previous) / delta\n",
    "\n",
    "def derivative_up(previous, current, delta):\n",
    "    return (current - previous) / delta\n",
    "\n",
    "def optimize_angles(angles, cost, delta=1):\n",
    "    new_angles = []\n",
    "    new_cost = 0\n",
    "\n",
    "    for i in range(len(angles)):\n",
    "        q_reg = QuantumRegister(len(angles))\n",
    "        qc = QuantumCircuit(q_reg)\n",
    "        \n",
    "\n"
   ]
  },
  {
   "cell_type": "code",
   "execution_count": 19,
   "metadata": {},
   "outputs": [
    {
     "data": {
      "text/plain": [
       "<qiskit.circuit.instructionset.InstructionSet at 0x7f46d84c0b80>"
      ]
     },
     "execution_count": 19,
     "metadata": {},
     "output_type": "execute_result"
    }
   ],
   "source": [
    "# format data\n",
    "from feature_mapping_initialize_method import *\n",
    "\n",
    "q = QuantumRegister(4)\n",
    "\n",
    "initial_angles = [2 * np.pi * random() for _ in range(4)]\n",
    "\n",
    "qc = QuantumCircuit(q)\n",
    "\n",
    "rotation(q, initial_angles, qc)\n",
    "\n",
    "#created a test array: actual array should be the raw data (to be normalized)\n",
    "array = [0, 1, 0, 3, 4, 8, 10, 2]\n",
    "\n",
    "arr = normalize_data(x)\n",
    "circuit.initialize(arr, circuit.qubits)\n",
    "\n"
   ]
  },
  {
   "cell_type": "code",
   "execution_count": null,
   "metadata": {},
   "outputs": [],
   "source": []
  }
 ],
 "metadata": {
  "kernelspec": {
   "display_name": "Python 3.8.10 64-bit",
   "language": "python",
   "name": "python3"
  },
  "language_info": {
   "codemirror_mode": {
    "name": "ipython",
    "version": 3
   },
   "file_extension": ".py",
   "mimetype": "text/x-python",
   "name": "python",
   "nbconvert_exporter": "python",
   "pygments_lexer": "ipython3",
   "version": "3.8.10"
  },
  "orig_nbformat": 4,
  "vscode": {
   "interpreter": {
    "hash": "916dbcbb3f70747c44a77c7bcd40155683ae19c65e1c03b4aa3499c5328201f1"
   }
  }
 },
 "nbformat": 4,
 "nbformat_minor": 2
}
