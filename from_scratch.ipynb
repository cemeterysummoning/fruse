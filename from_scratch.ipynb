{
 "cells": [
  {
   "cell_type": "code",
   "execution_count": 94,
   "metadata": {},
   "outputs": [],
   "source": [
    "import numpy as np\n",
    "from qiskit import *\n",
    "from random import random, randint\n",
    "import matplotlib.pyplot as plt\n",
    "\n",
    "# import feature map\n",
    "from feature_mapping_initialize_method import *"
   ]
  },
  {
   "cell_type": "code",
   "execution_count": 71,
   "metadata": {},
   "outputs": [],
   "source": [
    "# Preparing feature-mapped circuit\n",
    "# Inputs: \n",
    "#   num_qubits: number of qubits (log_2 of number of features), \n",
    "#   feature_data: data pertaining to each feature\n",
    "# Outputs: \n",
    "#   qc: prepared quantum circuit\n",
    "def prepare_circuit(num_qubits, feature_data):\n",
    "    feature_data = normalize_data(feature_data)\n",
    "    q = QuantumRegister(num_qubits)\n",
    "    qc = QuantumCircuit(q)\n",
    "    qc.initialize(feature_data, qc.qubits)\n",
    "    return qc"
   ]
  },
  {
   "cell_type": "code",
   "execution_count": 79,
   "metadata": {},
   "outputs": [
    {
     "data": {
      "text/plain": [
       "4"
      ]
     },
     "execution_count": 79,
     "metadata": {},
     "output_type": "execute_result"
    }
   ],
   "source": [
    "# Measures a quantum circuit and processes the output\n",
    "# Inputs: \n",
    "#   circuit: quantum circuit\n",
    "#   s: number of shots\n",
    "# Outputs:\n",
    "#   counts: dictionary of results from measuring the circuit\n",
    "def process_output(circuit, s):\n",
    "    \n",
    "    arr = []\n",
    "\n",
    "    simulator = Aer.get_backend('aer_simulator')\n",
    "\n",
    "    job = execute(circuit, simulator, shots=s)\n",
    "    result = job.result()\n",
    "    counts = result.get_counts(circuit)\n",
    "    return counts\n",
    "\n",
    "# Classifies counts based on the parity of the bits\n",
    "# Inputs:\n",
    "#   counts: dictionary containing counts from the circuit\n",
    "#   shots: number of shots used in measurement\n",
    "# Outputs:\n",
    "#   dictionary containing the probability distribution of the data falling into each class\n",
    "def parity_probabilities(counts, shots=100):\n",
    "    class_0 = 0\n",
    "    class_1 = 0\n",
    "\n",
    "    for keyBefore, value in counts.items():\n",
    "        key = keyBefore.split()[0]\n",
    "        temp = int(key[0]) ^ int(key[1])\n",
    "        for i in range(2, len(key)):\n",
    "            temp = temp ^ int(key[i])\n",
    "        \n",
    "        if temp == 0:\n",
    "            class_0 += value\n",
    "        else:\n",
    "            class_1 += value\n",
    "    return {0: class_0 / shots, 1: class_1 / shots}\n",
    "\n",
    "# Performs a variational quantum circuit with arbitrary rotation gates\n",
    "# Inputs:\n",
    "#   register: quantum register for the qubits\n",
    "#   angles: list of parameters to be applied with the rotation gates\n",
    "#   qc: prepared quantum circuit\n",
    "# Outputs:\n",
    "#   parity_processed:\n",
    "def rotation(num_qubits, angles, qc):\n",
    "\n",
    "    measurement = ClassicalRegister(num_qubits)\n",
    "    qc.add_register(measurement)\n",
    "    for i in range(num_qubits):\n",
    "        qc.ry(angles[i], i)\n",
    "    \n",
    "    for i in range(num_qubits - 1, 0, -1):\n",
    "        qc.cx(i, i - 1)\n",
    "\n",
    "    qc.cx(0, num_qubits - 1)\n",
    "\n",
    "    qc.measure_all()\n",
    "    s = 100\n",
    "    shots = process_output(qc, 100)\n",
    "    \n",
    "    parity_processed = parity_probabilities(shots)\n",
    "    return parity_processed\n",
    "\n",
    "q = QuantumRegister(4)\n",
    "initial_angles = [2 * np.pi * random() for _ in range(4)]\n",
    "len(q)"
   ]
  },
  {
   "cell_type": "code",
   "execution_count": 33,
   "metadata": {},
   "outputs": [],
   "source": [
    "def mse(shots_count, expected_value):\n",
    "    probability_of_expected = shots_count[expected_value]\n",
    "    return (1 - probability_of_expected) ** 2\n",
    "\n",
    "# y_values are either 0, 1\n",
    "# received_measurements are the dictionary of probabilities\n",
    "def count_costs(x_values, y_values, angles, received_measurements):\n",
    "    cost = 0\n",
    "\n",
    "    for i in range(len(x_values)):\n",
    "        cost += mse(received_measurements[i], y_values[i])\n",
    "    \n",
    "    return cost / len(x_values)\n",
    "    "
   ]
  },
  {
   "cell_type": "code",
   "execution_count": 108,
   "metadata": {},
   "outputs": [],
   "source": [
    "def cost_across_x(num_qubits, x, y, angles):\n",
    "    measured = []\n",
    "    for i in x:\n",
    "        qc = prepare_circuit(num_qubits, i)\n",
    "        measured.append(rotation(num_qubits, angles, qc))\n",
    "    cost_count = count_costs(x, y, angles, measured)\n",
    "    return cost_count\n",
    "\n",
    "def optimize_angles(angles, cost, x_values, y_values, num_qubits, delta=0.1, learning_rate=0.5):\n",
    "    new_angles = []\n",
    "\n",
    "    for i in range(len(angles)):\n",
    "        step_up = [j for j in angles]\n",
    "        step_up[i] += delta\n",
    "\n",
    "        step_down = [j for j in angles]\n",
    "        step_down[i] -= delta\n",
    "\n",
    "        cost_up = cost_across_x(num_qubits, x_values, y_values, step_up)\n",
    "        cost_down = cost_across_x(num_qubits, x_values, y_values, step_down)\n",
    "        \n",
    "        angle_delta = (cost_up - cost_down) / (2 * delta)\n",
    "        new_angles.append(angles[i] - delta * angle_delta)\n",
    "        # if cost_up < new_cost:\n",
    "        #     new_cost = cost_up\n",
    "        #     new_angles = [angle for angle in step_up]\n",
    "        # if cost_down < new_cost:\n",
    "        #     new_cost = cost_down\n",
    "        #     new_angles = [angle for angle in step_down]\n",
    "    new_cost = cost_across_x(num_qubits, x_values, y_values, new_angles)\n",
    "\n",
    "    return new_angles, new_cost\n",
    "        "
   ]
  },
  {
   "cell_type": "code",
   "execution_count": 116,
   "metadata": {},
   "outputs": [
    {
     "name": "stdout",
     "output_type": "stream",
     "text": [
      "initial parameters and costs: ([1.2548664239192182, 5.22257567161859], 0.4142406249999999)\n",
      "Iteration 0: ([1.260117986419218, 5.22158192161859], 0.41863124999999995)\n",
      "Iteration 1: ([1.261374236419218, 5.23594754661859], 0.4287125)\n",
      "Iteration 2: ([1.268282048919218, 5.2458350466185895], 0.4035375)\n",
      "Iteration 3: ([1.270897673919218, 5.2436162966185895], 0.43184687499999996)\n",
      "Iteration 4: ([1.273614861419218, 5.252456921618589], 0.42006562499999994)\n",
      "Iteration 5: ([1.265788298919218, 5.247122546618589], 0.43570624999999996)\n",
      "Iteration 6: ([1.264717986419218, 5.246900671618588], 0.423534375)\n",
      "Iteration 7: ([1.263207048919218, 5.252278796618588], 0.40577500000000005)\n",
      "Iteration 8: ([1.259233611419218, 5.261363171618589], 0.41277187499999984)\n",
      "Iteration 9: ([1.2622648614192178, 5.260880359118589], 0.417878125)\n",
      "Iteration 10: ([1.2553601739192177, 5.260633484118589], 0.4141687499999999)\n",
      "Iteration 11: ([1.260422673919218, 5.258620984118589], 0.423165625)\n",
      "Iteration 12: ([1.2600914239192178, 5.270292859118589], 0.4276468750000001)\n",
      "Iteration 13: ([1.253867986419218, 5.268400671618589], 0.43028750000000004)\n",
      "Iteration 14: ([1.2489961114192178, 5.272344421618589], 0.42161875)\n",
      "Iteration 15: ([1.259813298919218, 5.28293660911859], 0.428671875)\n",
      "Iteration 16: ([1.2588023614192179, 5.279435046618589], 0.42839374999999996)\n",
      "Iteration 17: ([1.2634242364192179, 5.292736609118589], 0.42072499999999996)\n",
      "Iteration 18: ([1.2664414239192179, 5.294139734118589], 0.4133625)\n",
      "Iteration 19: ([1.2634632989192178, 5.296352234118589], 0.430815625)\n",
      "Iteration 20: ([1.268863298919218, 5.295858484118589], 0.42198437500000013)\n"
     ]
    },
    {
     "ename": "KeyboardInterrupt",
     "evalue": "",
     "output_type": "error",
     "traceback": [
      "\u001b[0;31m---------------------------------------------------------------------------\u001b[0m",
      "\u001b[0;31mKeyboardInterrupt\u001b[0m                         Traceback (most recent call last)",
      "\u001b[1;32m/home/ace/scripts/quantum_final_project/from_scratch.ipynb Cell 6\u001b[0m in \u001b[0;36m<cell line: 30>\u001b[0;34m()\u001b[0m\n\u001b[1;32m     <a href='vscode-notebook-cell:/home/ace/scripts/quantum_final_project/from_scratch.ipynb#ch0000002?line=28'>29</a>\u001b[0m i \u001b[39m=\u001b[39m \u001b[39m0\u001b[39m\n\u001b[1;32m     <a href='vscode-notebook-cell:/home/ace/scripts/quantum_final_project/from_scratch.ipynb#ch0000002?line=29'>30</a>\u001b[0m \u001b[39mwhile\u001b[39;00m costs[\u001b[39m-\u001b[39m\u001b[39m1\u001b[39m] \u001b[39m>\u001b[39m \u001b[39m0.25\u001b[39m:\n\u001b[0;32m---> <a href='vscode-notebook-cell:/home/ace/scripts/quantum_final_project/from_scratch.ipynb#ch0000002?line=30'>31</a>\u001b[0m     current_angles, current_cost \u001b[39m=\u001b[39m optimize_angles(angles[\u001b[39m-\u001b[39;49m\u001b[39m1\u001b[39;49m], costs[\u001b[39m-\u001b[39;49m\u001b[39m1\u001b[39;49m], x, y, num_qubits)\n\u001b[1;32m     <a href='vscode-notebook-cell:/home/ace/scripts/quantum_final_project/from_scratch.ipynb#ch0000002?line=31'>32</a>\u001b[0m     angles\u001b[39m.\u001b[39mappend(current_angles)\n\u001b[1;32m     <a href='vscode-notebook-cell:/home/ace/scripts/quantum_final_project/from_scratch.ipynb#ch0000002?line=32'>33</a>\u001b[0m     costs\u001b[39m.\u001b[39mappend(current_cost)\n",
      "\u001b[1;32m/home/ace/scripts/quantum_final_project/from_scratch.ipynb Cell 6\u001b[0m in \u001b[0;36moptimize_angles\u001b[0;34m(angles, cost, x_values, y_values, num_qubits, delta, learning_rate)\u001b[0m\n\u001b[1;32m     <a href='vscode-notebook-cell:/home/ace/scripts/quantum_final_project/from_scratch.ipynb#ch0000002?line=16'>17</a>\u001b[0m step_down[i] \u001b[39m-\u001b[39m\u001b[39m=\u001b[39m delta\n\u001b[1;32m     <a href='vscode-notebook-cell:/home/ace/scripts/quantum_final_project/from_scratch.ipynb#ch0000002?line=18'>19</a>\u001b[0m cost_up \u001b[39m=\u001b[39m cost_across_x(num_qubits, x_values, y_values, step_up)\n\u001b[0;32m---> <a href='vscode-notebook-cell:/home/ace/scripts/quantum_final_project/from_scratch.ipynb#ch0000002?line=19'>20</a>\u001b[0m cost_down \u001b[39m=\u001b[39m cost_across_x(num_qubits, x_values, y_values, step_down)\n\u001b[1;32m     <a href='vscode-notebook-cell:/home/ace/scripts/quantum_final_project/from_scratch.ipynb#ch0000002?line=21'>22</a>\u001b[0m angle_delta \u001b[39m=\u001b[39m (cost_up \u001b[39m-\u001b[39m cost_down) \u001b[39m/\u001b[39m (\u001b[39m2\u001b[39m \u001b[39m*\u001b[39m delta)\n\u001b[1;32m     <a href='vscode-notebook-cell:/home/ace/scripts/quantum_final_project/from_scratch.ipynb#ch0000002?line=22'>23</a>\u001b[0m new_angles\u001b[39m.\u001b[39mappend(angles[i] \u001b[39m-\u001b[39m delta \u001b[39m*\u001b[39m angle_delta)\n",
      "\u001b[1;32m/home/ace/scripts/quantum_final_project/from_scratch.ipynb Cell 6\u001b[0m in \u001b[0;36mcost_across_x\u001b[0;34m(num_qubits, x, y, angles)\u001b[0m\n\u001b[1;32m      <a href='vscode-notebook-cell:/home/ace/scripts/quantum_final_project/from_scratch.ipynb#ch0000002?line=2'>3</a>\u001b[0m \u001b[39mfor\u001b[39;00m i \u001b[39min\u001b[39;00m x:\n\u001b[1;32m      <a href='vscode-notebook-cell:/home/ace/scripts/quantum_final_project/from_scratch.ipynb#ch0000002?line=3'>4</a>\u001b[0m     qc \u001b[39m=\u001b[39m prepare_circuit(num_qubits, i)\n\u001b[0;32m----> <a href='vscode-notebook-cell:/home/ace/scripts/quantum_final_project/from_scratch.ipynb#ch0000002?line=4'>5</a>\u001b[0m     measured\u001b[39m.\u001b[39mappend(rotation(num_qubits, angles, qc))\n\u001b[1;32m      <a href='vscode-notebook-cell:/home/ace/scripts/quantum_final_project/from_scratch.ipynb#ch0000002?line=5'>6</a>\u001b[0m cost_count \u001b[39m=\u001b[39m count_costs(x, y, angles, measured)\n\u001b[1;32m      <a href='vscode-notebook-cell:/home/ace/scripts/quantum_final_project/from_scratch.ipynb#ch0000002?line=6'>7</a>\u001b[0m \u001b[39mreturn\u001b[39;00m cost_count\n",
      "\u001b[1;32m/home/ace/scripts/quantum_final_project/from_scratch.ipynb Cell 6\u001b[0m in \u001b[0;36mrotation\u001b[0;34m(num_qubits, angles, qc)\u001b[0m\n\u001b[1;32m     <a href='vscode-notebook-cell:/home/ace/scripts/quantum_final_project/from_scratch.ipynb#ch0000002?line=58'>59</a>\u001b[0m qc\u001b[39m.\u001b[39mmeasure_all()\n\u001b[1;32m     <a href='vscode-notebook-cell:/home/ace/scripts/quantum_final_project/from_scratch.ipynb#ch0000002?line=59'>60</a>\u001b[0m s \u001b[39m=\u001b[39m \u001b[39m100\u001b[39m\n\u001b[0;32m---> <a href='vscode-notebook-cell:/home/ace/scripts/quantum_final_project/from_scratch.ipynb#ch0000002?line=60'>61</a>\u001b[0m shots \u001b[39m=\u001b[39m process_output(qc, \u001b[39m100\u001b[39;49m)\n\u001b[1;32m     <a href='vscode-notebook-cell:/home/ace/scripts/quantum_final_project/from_scratch.ipynb#ch0000002?line=62'>63</a>\u001b[0m parity_processed \u001b[39m=\u001b[39m parity_probabilities(shots)\n\u001b[1;32m     <a href='vscode-notebook-cell:/home/ace/scripts/quantum_final_project/from_scratch.ipynb#ch0000002?line=63'>64</a>\u001b[0m \u001b[39mreturn\u001b[39;00m parity_processed\n",
      "\u001b[1;32m/home/ace/scripts/quantum_final_project/from_scratch.ipynb Cell 6\u001b[0m in \u001b[0;36mprocess_output\u001b[0;34m(circuit, s)\u001b[0m\n\u001b[1;32m      <a href='vscode-notebook-cell:/home/ace/scripts/quantum_final_project/from_scratch.ipynb#ch0000002?line=8'>9</a>\u001b[0m arr \u001b[39m=\u001b[39m []\n\u001b[1;32m     <a href='vscode-notebook-cell:/home/ace/scripts/quantum_final_project/from_scratch.ipynb#ch0000002?line=10'>11</a>\u001b[0m simulator \u001b[39m=\u001b[39m Aer\u001b[39m.\u001b[39mget_backend(\u001b[39m'\u001b[39m\u001b[39maer_simulator\u001b[39m\u001b[39m'\u001b[39m)\n\u001b[0;32m---> <a href='vscode-notebook-cell:/home/ace/scripts/quantum_final_project/from_scratch.ipynb#ch0000002?line=12'>13</a>\u001b[0m job \u001b[39m=\u001b[39m execute(circuit, simulator, shots\u001b[39m=\u001b[39;49ms)\n\u001b[1;32m     <a href='vscode-notebook-cell:/home/ace/scripts/quantum_final_project/from_scratch.ipynb#ch0000002?line=13'>14</a>\u001b[0m result \u001b[39m=\u001b[39m job\u001b[39m.\u001b[39mresult()\n\u001b[1;32m     <a href='vscode-notebook-cell:/home/ace/scripts/quantum_final_project/from_scratch.ipynb#ch0000002?line=14'>15</a>\u001b[0m counts \u001b[39m=\u001b[39m result\u001b[39m.\u001b[39mget_counts(circuit)\n",
      "File \u001b[0;32m~/.local/lib/python3.8/site-packages/qiskit/execute_function.py:299\u001b[0m, in \u001b[0;36mexecute\u001b[0;34m(experiments, backend, basis_gates, coupling_map, backend_properties, initial_layout, seed_transpiler, optimization_level, pass_manager, qobj_id, qobj_header, shots, memory, max_credits, seed_simulator, default_qubit_los, default_meas_los, qubit_lo_range, meas_lo_range, schedule_los, meas_level, meas_return, memory_slots, memory_slot_size, rep_time, rep_delay, parameter_binds, schedule_circuit, inst_map, meas_map, scheduling_method, init_qubits, **run_config)\u001b[0m\n\u001b[1;32m    296\u001b[0m     experiments \u001b[39m=\u001b[39m pass_manager\u001b[39m.\u001b[39mrun(experiments)\n\u001b[1;32m    297\u001b[0m \u001b[39melse\u001b[39;00m:\n\u001b[1;32m    298\u001b[0m     \u001b[39m# transpiling the circuits using given transpile options\u001b[39;00m\n\u001b[0;32m--> 299\u001b[0m     experiments \u001b[39m=\u001b[39m transpile(\n\u001b[1;32m    300\u001b[0m         experiments,\n\u001b[1;32m    301\u001b[0m         basis_gates\u001b[39m=\u001b[39;49mbasis_gates,\n\u001b[1;32m    302\u001b[0m         coupling_map\u001b[39m=\u001b[39;49mcoupling_map,\n\u001b[1;32m    303\u001b[0m         backend_properties\u001b[39m=\u001b[39;49mbackend_properties,\n\u001b[1;32m    304\u001b[0m         initial_layout\u001b[39m=\u001b[39;49minitial_layout,\n\u001b[1;32m    305\u001b[0m         seed_transpiler\u001b[39m=\u001b[39;49mseed_transpiler,\n\u001b[1;32m    306\u001b[0m         optimization_level\u001b[39m=\u001b[39;49moptimization_level,\n\u001b[1;32m    307\u001b[0m         backend\u001b[39m=\u001b[39;49mbackend,\n\u001b[1;32m    308\u001b[0m     )\n\u001b[1;32m    310\u001b[0m \u001b[39mif\u001b[39;00m schedule_circuit:\n\u001b[1;32m    311\u001b[0m     experiments \u001b[39m=\u001b[39m schedule(\n\u001b[1;32m    312\u001b[0m         circuits\u001b[39m=\u001b[39mexperiments,\n\u001b[1;32m    313\u001b[0m         backend\u001b[39m=\u001b[39mbackend,\n\u001b[0;32m   (...)\u001b[0m\n\u001b[1;32m    316\u001b[0m         method\u001b[39m=\u001b[39mscheduling_method,\n\u001b[1;32m    317\u001b[0m     )\n",
      "File \u001b[0;32m~/.local/lib/python3.8/site-packages/qiskit/compiler/transpiler.py:341\u001b[0m, in \u001b[0;36mtranspile\u001b[0;34m(circuits, backend, basis_gates, inst_map, coupling_map, backend_properties, initial_layout, layout_method, routing_method, translation_method, scheduling_method, instruction_durations, dt, approximation_degree, timing_constraints, seed_transpiler, optimization_level, callback, output_name, unitary_synthesis_method, unitary_synthesis_plugin_config, target)\u001b[0m\n\u001b[1;32m    338\u001b[0m     \u001b[39mfor\u001b[39;00m circuit, unique_args \u001b[39min\u001b[39;00m \u001b[39mzip\u001b[39m(circuits, unique_transpile_args):\n\u001b[1;32m    339\u001b[0m         transpile_config, pass_manager \u001b[39m=\u001b[39m _combine_args(shared_args, unique_args)\n\u001b[1;32m    340\u001b[0m         output_circuits\u001b[39m.\u001b[39mappend(\n\u001b[0;32m--> 341\u001b[0m             _serial_transpile_circuit(\n\u001b[1;32m    342\u001b[0m                 circuit,\n\u001b[1;32m    343\u001b[0m                 pass_manager,\n\u001b[1;32m    344\u001b[0m                 transpile_config[\u001b[39m\"\u001b[39;49m\u001b[39mcallback\u001b[39;49m\u001b[39m\"\u001b[39;49m],\n\u001b[1;32m    345\u001b[0m                 transpile_config[\u001b[39m\"\u001b[39;49m\u001b[39moutput_name\u001b[39;49m\u001b[39m\"\u001b[39;49m],\n\u001b[1;32m    346\u001b[0m                 transpile_config[\u001b[39m\"\u001b[39;49m\u001b[39mbackend_num_qubits\u001b[39;49m\u001b[39m\"\u001b[39;49m],\n\u001b[1;32m    347\u001b[0m                 transpile_config[\u001b[39m\"\u001b[39;49m\u001b[39mfaulty_qubits_map\u001b[39;49m\u001b[39m\"\u001b[39;49m],\n\u001b[1;32m    348\u001b[0m                 transpile_config[\u001b[39m\"\u001b[39;49m\u001b[39mpass_manager_config\u001b[39;49m\u001b[39m\"\u001b[39;49m]\u001b[39m.\u001b[39;49mbackend_properties,\n\u001b[1;32m    349\u001b[0m             )\n\u001b[1;32m    350\u001b[0m         )\n\u001b[1;32m    351\u001b[0m     circuits \u001b[39m=\u001b[39m output_circuits\n\u001b[1;32m    352\u001b[0m end_time \u001b[39m=\u001b[39m time()\n",
      "File \u001b[0;32m~/.local/lib/python3.8/site-packages/qiskit/compiler/transpiler.py:434\u001b[0m, in \u001b[0;36m_serial_transpile_circuit\u001b[0;34m(circuit, pass_manager, callback, output_name, num_qubits, faulty_qubits_map, backend_prop)\u001b[0m\n\u001b[1;32m    425\u001b[0m \u001b[39mdef\u001b[39;00m \u001b[39m_serial_transpile_circuit\u001b[39m(\n\u001b[1;32m    426\u001b[0m     circuit,\n\u001b[1;32m    427\u001b[0m     pass_manager,\n\u001b[0;32m   (...)\u001b[0m\n\u001b[1;32m    432\u001b[0m     backend_prop\u001b[39m=\u001b[39m\u001b[39mNone\u001b[39;00m,\n\u001b[1;32m    433\u001b[0m ):\n\u001b[0;32m--> 434\u001b[0m     result \u001b[39m=\u001b[39m pass_manager\u001b[39m.\u001b[39;49mrun(circuit, callback\u001b[39m=\u001b[39;49mcallback, output_name\u001b[39m=\u001b[39;49moutput_name)\n\u001b[1;32m    435\u001b[0m     \u001b[39mif\u001b[39;00m faulty_qubits_map:\n\u001b[1;32m    436\u001b[0m         \u001b[39mreturn\u001b[39;00m _remap_circuit_faulty_backend(\n\u001b[1;32m    437\u001b[0m             result,\n\u001b[1;32m    438\u001b[0m             num_qubits,\n\u001b[1;32m    439\u001b[0m             backend_prop,\n\u001b[1;32m    440\u001b[0m             faulty_qubits_map,\n\u001b[1;32m    441\u001b[0m         )\n",
      "File \u001b[0;32m~/.local/lib/python3.8/site-packages/qiskit/transpiler/passmanager.py:507\u001b[0m, in \u001b[0;36mStagedPassManager.run\u001b[0;34m(self, circuits, output_name, callback)\u001b[0m\n\u001b[1;32m    500\u001b[0m \u001b[39mdef\u001b[39;00m \u001b[39mrun\u001b[39m(\n\u001b[1;32m    501\u001b[0m     \u001b[39mself\u001b[39m,\n\u001b[1;32m    502\u001b[0m     circuits: Union[QuantumCircuit, List[QuantumCircuit]],\n\u001b[1;32m    503\u001b[0m     output_name: \u001b[39mstr\u001b[39m \u001b[39m=\u001b[39m \u001b[39mNone\u001b[39;00m,\n\u001b[1;32m    504\u001b[0m     callback: Callable \u001b[39m=\u001b[39m \u001b[39mNone\u001b[39;00m,\n\u001b[1;32m    505\u001b[0m ) \u001b[39m-\u001b[39m\u001b[39m>\u001b[39m Union[QuantumCircuit, List[QuantumCircuit]]:\n\u001b[1;32m    506\u001b[0m     \u001b[39mself\u001b[39m\u001b[39m.\u001b[39m_update_passmanager()\n\u001b[0;32m--> 507\u001b[0m     \u001b[39mreturn\u001b[39;00m \u001b[39msuper\u001b[39;49m()\u001b[39m.\u001b[39;49mrun(circuits, output_name, callback)\n",
      "File \u001b[0;32m~/.local/lib/python3.8/site-packages/qiskit/transpiler/passmanager.py:224\u001b[0m, in \u001b[0;36mPassManager.run\u001b[0;34m(self, circuits, output_name, callback)\u001b[0m\n\u001b[1;32m    222\u001b[0m     \u001b[39mreturn\u001b[39;00m circuits\n\u001b[1;32m    223\u001b[0m \u001b[39mif\u001b[39;00m \u001b[39misinstance\u001b[39m(circuits, QuantumCircuit):\n\u001b[0;32m--> 224\u001b[0m     \u001b[39mreturn\u001b[39;00m \u001b[39mself\u001b[39;49m\u001b[39m.\u001b[39;49m_run_single_circuit(circuits, output_name, callback)\n\u001b[1;32m    225\u001b[0m \u001b[39mif\u001b[39;00m \u001b[39mlen\u001b[39m(circuits) \u001b[39m==\u001b[39m \u001b[39m1\u001b[39m:\n\u001b[1;32m    226\u001b[0m     \u001b[39mreturn\u001b[39;00m \u001b[39mself\u001b[39m\u001b[39m.\u001b[39m_run_single_circuit(circuits[\u001b[39m0\u001b[39m], output_name, callback)\n",
      "File \u001b[0;32m~/.local/lib/python3.8/site-packages/qiskit/transpiler/passmanager.py:279\u001b[0m, in \u001b[0;36mPassManager._run_single_circuit\u001b[0;34m(self, circuit, output_name, callback)\u001b[0m\n\u001b[1;32m    267\u001b[0m \u001b[39m\"\"\"Run all the passes on a ``circuit``.\u001b[39;00m\n\u001b[1;32m    268\u001b[0m \n\u001b[1;32m    269\u001b[0m \u001b[39mArgs:\u001b[39;00m\n\u001b[0;32m   (...)\u001b[0m\n\u001b[1;32m    276\u001b[0m \u001b[39m    The transformed circuit.\u001b[39;00m\n\u001b[1;32m    277\u001b[0m \u001b[39m\"\"\"\u001b[39;00m\n\u001b[1;32m    278\u001b[0m running_passmanager \u001b[39m=\u001b[39m \u001b[39mself\u001b[39m\u001b[39m.\u001b[39m_create_running_passmanager()\n\u001b[0;32m--> 279\u001b[0m result \u001b[39m=\u001b[39m running_passmanager\u001b[39m.\u001b[39;49mrun(circuit, output_name\u001b[39m=\u001b[39;49moutput_name, callback\u001b[39m=\u001b[39;49mcallback)\n\u001b[1;32m    280\u001b[0m \u001b[39mself\u001b[39m\u001b[39m.\u001b[39mproperty_set \u001b[39m=\u001b[39m running_passmanager\u001b[39m.\u001b[39mproperty_set\n\u001b[1;32m    281\u001b[0m \u001b[39mreturn\u001b[39;00m result\n",
      "File \u001b[0;32m~/.local/lib/python3.8/site-packages/qiskit/transpiler/runningpassmanager.py:124\u001b[0m, in \u001b[0;36mRunningPassManager.run\u001b[0;34m(***failed resolving arguments***)\u001b[0m\n\u001b[1;32m    122\u001b[0m \u001b[39mfor\u001b[39;00m passset \u001b[39min\u001b[39;00m \u001b[39mself\u001b[39m\u001b[39m.\u001b[39mworking_list:\n\u001b[1;32m    123\u001b[0m     \u001b[39mfor\u001b[39;00m pass_ \u001b[39min\u001b[39;00m passset:\n\u001b[0;32m--> 124\u001b[0m         dag \u001b[39m=\u001b[39m \u001b[39mself\u001b[39;49m\u001b[39m.\u001b[39;49m_do_pass(pass_, dag, passset\u001b[39m.\u001b[39;49moptions)\n\u001b[1;32m    126\u001b[0m circuit \u001b[39m=\u001b[39m dag_to_circuit(dag)\n\u001b[1;32m    127\u001b[0m \u001b[39mif\u001b[39;00m output_name:\n",
      "File \u001b[0;32m~/.local/lib/python3.8/site-packages/qiskit/transpiler/runningpassmanager.py:167\u001b[0m, in \u001b[0;36mRunningPassManager._do_pass\u001b[0;34m(self, pass_, dag, options)\u001b[0m\n\u001b[1;32m    165\u001b[0m \u001b[39m# Run the pass itself, if not already run\u001b[39;00m\n\u001b[1;32m    166\u001b[0m \u001b[39mif\u001b[39;00m pass_ \u001b[39mnot\u001b[39;00m \u001b[39min\u001b[39;00m \u001b[39mself\u001b[39m\u001b[39m.\u001b[39mvalid_passes:\n\u001b[0;32m--> 167\u001b[0m     dag \u001b[39m=\u001b[39m \u001b[39mself\u001b[39;49m\u001b[39m.\u001b[39;49m_run_this_pass(pass_, dag)\n\u001b[1;32m    169\u001b[0m     \u001b[39m# update the valid_passes property\u001b[39;00m\n\u001b[1;32m    170\u001b[0m     \u001b[39mself\u001b[39m\u001b[39m.\u001b[39m_update_valid_passes(pass_)\n",
      "File \u001b[0;32m~/.local/lib/python3.8/site-packages/qiskit/transpiler/runningpassmanager.py:196\u001b[0m, in \u001b[0;36mRunningPassManager._run_this_pass\u001b[0;34m(self, pass_, dag)\u001b[0m\n\u001b[1;32m    193\u001b[0m \u001b[39mif\u001b[39;00m pass_\u001b[39m.\u001b[39mis_transformation_pass:\n\u001b[1;32m    194\u001b[0m     \u001b[39m# Measure time if we have a callback or logging set\u001b[39;00m\n\u001b[1;32m    195\u001b[0m     start_time \u001b[39m=\u001b[39m time()\n\u001b[0;32m--> 196\u001b[0m     new_dag \u001b[39m=\u001b[39m pass_\u001b[39m.\u001b[39;49mrun(dag)\n\u001b[1;32m    197\u001b[0m     end_time \u001b[39m=\u001b[39m time()\n\u001b[1;32m    198\u001b[0m     run_time \u001b[39m=\u001b[39m end_time \u001b[39m-\u001b[39m start_time\n",
      "File \u001b[0;32m~/.local/lib/python3.8/site-packages/qiskit/transpiler/passes/basis/basis_translator.py:192\u001b[0m, in \u001b[0;36mBasisTranslator.run\u001b[0;34m(self, dag)\u001b[0m\n\u001b[1;32m    189\u001b[0m \u001b[39m# Compose found path into a set of instruction substitution rules.\u001b[39;00m\n\u001b[1;32m    191\u001b[0m compose_start_time \u001b[39m=\u001b[39m time\u001b[39m.\u001b[39mtime()\n\u001b[0;32m--> 192\u001b[0m instr_map \u001b[39m=\u001b[39m _compose_transforms(basis_transforms, source_basis, dag)\n\u001b[1;32m    193\u001b[0m extra_instr_map \u001b[39m=\u001b[39m {\n\u001b[1;32m    194\u001b[0m     qarg: _compose_transforms(transforms, qargs_local_source_basis[qarg], dag)\n\u001b[1;32m    195\u001b[0m     \u001b[39mfor\u001b[39;00m qarg, transforms \u001b[39min\u001b[39;00m qarg_local_basis_transforms\u001b[39m.\u001b[39mitems()\n\u001b[1;32m    196\u001b[0m }\n\u001b[1;32m    198\u001b[0m compose_end_time \u001b[39m=\u001b[39m time\u001b[39m.\u001b[39mtime()\n",
      "File \u001b[0;32m~/.local/lib/python3.8/site-packages/qiskit/transpiler/passes/basis/basis_translator.py:562\u001b[0m, in \u001b[0;36m_compose_transforms\u001b[0;34m(basis_transforms, source_basis, source_dag)\u001b[0m\n\u001b[1;32m    560\u001b[0m dag \u001b[39m=\u001b[39m DAGCircuit()\n\u001b[1;32m    561\u001b[0m qr \u001b[39m=\u001b[39m QuantumRegister(gate_num_qubits)\n\u001b[0;32m--> 562\u001b[0m dag\u001b[39m.\u001b[39;49madd_qreg(qr)\n\u001b[1;32m    563\u001b[0m dag\u001b[39m.\u001b[39mapply_operation_back(placeholder_gate, qr[:], [])\n\u001b[1;32m    564\u001b[0m mapped_instrs[gate_name, gate_num_qubits] \u001b[39m=\u001b[39m placeholder_params, dag\n",
      "File \u001b[0;32m~/.local/lib/python3.8/site-packages/qiskit/dagcircuit/dagcircuit.py:280\u001b[0m, in \u001b[0;36mDAGCircuit.add_qreg\u001b[0;34m(self, qreg)\u001b[0m\n\u001b[1;32m    278\u001b[0m \u001b[39mif\u001b[39;00m qreg[j] \u001b[39mnot\u001b[39;00m \u001b[39min\u001b[39;00m existing_qubits:\n\u001b[1;32m    279\u001b[0m     \u001b[39mself\u001b[39m\u001b[39m.\u001b[39mqubits\u001b[39m.\u001b[39mappend(qreg[j])\n\u001b[0;32m--> 280\u001b[0m     \u001b[39mself\u001b[39;49m\u001b[39m.\u001b[39;49m_add_wire(qreg[j])\n",
      "File \u001b[0;32m~/.local/lib/python3.8/site-packages/qiskit/dagcircuit/dagcircuit.py:310\u001b[0m, in \u001b[0;36mDAGCircuit._add_wire\u001b[0;34m(self, wire)\u001b[0m\n\u001b[1;32m    307\u001b[0m \u001b[39mself\u001b[39m\u001b[39m.\u001b[39m_wires\u001b[39m.\u001b[39madd(wire)\n\u001b[1;32m    309\u001b[0m inp_node \u001b[39m=\u001b[39m DAGInNode(wire\u001b[39m=\u001b[39mwire)\n\u001b[0;32m--> 310\u001b[0m outp_node \u001b[39m=\u001b[39m DAGOutNode(wire\u001b[39m=\u001b[39;49mwire)\n\u001b[1;32m    311\u001b[0m input_map_id, output_map_id \u001b[39m=\u001b[39m \u001b[39mself\u001b[39m\u001b[39m.\u001b[39m_multi_graph\u001b[39m.\u001b[39madd_nodes_from([inp_node, outp_node])\n\u001b[1;32m    312\u001b[0m inp_node\u001b[39m.\u001b[39m_node_id \u001b[39m=\u001b[39m input_map_id\n",
      "\u001b[0;31mKeyboardInterrupt\u001b[0m: "
     ]
    }
   ],
   "source": [
    "# random samples, toy data\n",
    "entries = 32\n",
    "\n",
    "x = []\n",
    "for _ in range(entries):\n",
    "    temp = [20 * random() for _ in range(4)]\n",
    "    while temp in x:\n",
    "        temp = 20 * random()\n",
    "    x.append(temp)\n",
    "\n",
    "y = [randint(0, 1) for _ in range(entries)]\n",
    "\n",
    "measured = []\n",
    "\n",
    "num_qubits = int(np.log2(len(x[0])))\n",
    "\n",
    "initial_angles = [2 * np.pi * random() for _ in range(num_qubits)]\n",
    "\n",
    "for i in range(len(x)):\n",
    "    qc = prepare_circuit(num_qubits, x[i])\n",
    "    measured.append(rotation(num_qubits, initial_angles, qc))\n",
    "    \n",
    "cost = count_costs(x, y, initial_angles, measured)\n",
    "1\n",
    "costs = [cost]\n",
    "angles = [initial_angles]\n",
    "\n",
    "print(f\"initial parameters and costs: ({initial_angles}, {cost})\")\n",
    "i = 0\n",
    "while costs[-1] > 0.25:\n",
    "    current_angles, current_cost = optimize_angles(angles[-1], costs[-1], x, y, num_qubits)\n",
    "    angles.append(current_angles)\n",
    "    costs.append(current_cost)\n",
    "    print(f\"Iteration {i}: ({current_angles}, {current_cost})\")\n",
    "    i += 1"
   ]
  },
  {
   "cell_type": "code",
   "execution_count": 111,
   "metadata": {},
   "outputs": [
    {
     "data": {
      "text/plain": [
       "[<matplotlib.lines.Line2D at 0x7f46c9db8160>]"
      ]
     },
     "execution_count": 111,
     "metadata": {},
     "output_type": "execute_result"
    },
    {
     "data": {
      "image/png": "[encoded data removed]",
      "text/plain": [
       "<Figure size 432x288 with 1 Axes>"
      ]
     },
     "metadata": {
      "needs_background": "light"
     },
     "output_type": "display_data"
    }
   ],
   "source": [
    "import matplotlib.pyplot as plt\n",
    "\n",
    "x = [cost for cost in costs]\n",
    "y = [i for i in range(len(x))]\n",
    "\n",
    "plt.plot(y, x)\n"
   ]
  }
 ],
 "metadata": {
  "kernelspec": {
   "display_name": "Python 3.8.10 64-bit",
   "language": "python",
   "name": "python3"
  },
  "language_info": {
   "codemirror_mode": {
    "name": "ipython",
    "version": 3
   },
   "file_extension": ".py",
   "mimetype": "text/x-python",
   "name": "python",
   "nbconvert_exporter": "python",
   "pygments_lexer": "ipython3",
   "version": "3.8.10"
  },
  "orig_nbformat": 4,
  "vscode": {
   "interpreter": {
    "hash": "916dbcbb3f70747c44a77c7bcd40155683ae19c65e1c03b4aa3499c5328201f1"
   }
  }
 },
 "nbformat": 4,
 "nbformat_minor": 2
}
