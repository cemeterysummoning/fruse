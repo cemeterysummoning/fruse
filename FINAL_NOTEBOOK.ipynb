{
 "cells": [
  {
   "cell_type": "code",
   "execution_count": 2,
   "metadata": {},
   "outputs": [],
   "source": [
    "import numpy as np\n",
    "from qiskit import *\n",
    "from random import random, randint\n",
    "import matplotlib.pyplot as plt\n",
    "\n",
    "# import feature map\n",
    "from feature_mapping_initialize_method import *"
   ]
  },
  {
   "cell_type": "code",
   "execution_count": 3,
   "metadata": {},
   "outputs": [],
   "source": [
    "# Preparing feature-mapped circuit\n",
    "# Inputs: \n",
    "#   num_qubits: number of qubits (log_2 of number of features), \n",
    "#   feature_data: data pertaining to each feature\n",
    "# Outputs: \n",
    "#   qc: prepared quantum circuit\n",
    "def prepare_circuit(num_qubits, feature_data):\n",
    "    feature_data = normalize_data(feature_data)\n",
    "    q = QuantumRegister(num_qubits)\n",
    "    qc = QuantumCircuit(q)\n",
    "    qc.initialize(feature_data, qc.qubits)\n",
    "    return qc"
   ]
  },
  {
   "cell_type": "code",
   "execution_count": 4,
   "metadata": {},
   "outputs": [
    {
     "data": {
      "text/plain": [
       "4"
      ]
     },
     "execution_count": 4,
     "metadata": {},
     "output_type": "execute_result"
    }
   ],
   "source": [
    "# Measures a quantum circuit and processes the output\n",
    "# Inputs: \n",
    "#   circuit: quantum circuit\n",
    "#   s: number of shots\n",
    "# Outputs:\n",
    "#   counts: dictionary of results from measuring the circuit\n",
    "def process_output(circuit, s):\n",
    "    \n",
    "    arr = []\n",
    "\n",
    "    simulator = Aer.get_backend('aer_simulator')\n",
    "\n",
    "    job = execute(circuit, simulator, shots=s)\n",
    "    result = job.result()\n",
    "    counts = result.get_counts(circuit)\n",
    "    return counts\n",
    "\n",
    "# Classifies counts based on the parity of the bits\n",
    "# Inputs:\n",
    "#   counts: dictionary containing counts from the circuit\n",
    "#   shots: number of shots used in measurement\n",
    "# Outputs:\n",
    "#   dictionary containing the probability distribution of the data falling into each class\n",
    "def parity_probabilities(counts, shots=100):\n",
    "    class_0 = 0\n",
    "    class_1 = 0\n",
    "\n",
    "    for keyBefore, value in counts.items():\n",
    "        key = keyBefore.split()[0]\n",
    "        temp = int(key[0]) ^ int(key[1])\n",
    "        for i in range(2, len(key)):\n",
    "            temp = temp ^ int(key[i])\n",
    "        \n",
    "        if temp == 0:\n",
    "            class_0 += value\n",
    "        else:\n",
    "            class_1 += value\n",
    "    return {0: class_0 / shots, 1: class_1 / shots}\n",
    "\n",
    "# Performs a variational quantum circuit with arbitrary rotation gates\n",
    "# Inputs:\n",
    "#   register: quantum register for the qubits\n",
    "#   angles: list of parameters to be applied with the rotation gates\n",
    "#   qc: prepared quantum circuit\n",
    "# Outputs:\n",
    "#   parity_processed:\n",
    "def rotation(num_qubits, angles, qc):\n",
    "\n",
    "    measurement = ClassicalRegister(num_qubits)\n",
    "    qc.add_register(measurement)\n",
    "    for i in range(num_qubits): # adds rotation gates\n",
    "        qc.ry(angles[i], i)\n",
    "    \n",
    "    for i in range(num_qubits - 1, 0, -1): # adds controlled X gates\n",
    "        qc.cx(i, i - 1)\n",
    "\n",
    "    qc.cx(0, num_qubits - 1)\n",
    "\n",
    "    qc.measure_all()\n",
    "    s = 100\n",
    "    shots = process_output(qc, 100)\n",
    "    \n",
    "    parity_processed = parity_probabilities(shots) # processes with respect to parity\n",
    "    return parity_processed\n",
    "\n",
    "q = QuantumRegister(4)\n",
    "initial_angles = [2 * np.pi * random() for _ in range(4)]\n",
    "len(q)"
   ]
  },
  {
   "cell_type": "code",
   "execution_count": 5,
   "metadata": {},
   "outputs": [],
   "source": [
    "# Calculates mean squared error \n",
    "# Inputs: \n",
    "#   shots_count: dictionary of probabilities\n",
    "#   expected_value: either a 1 or a 0, corresponding to the data\n",
    "# Outputs:\n",
    "#   Mean squared error according to formula\n",
    "def mse(shots_count, expected_value):\n",
    "    probability_of_expected = shots_count[expected_value]\n",
    "    return (1 - probability_of_expected) ** 2\n",
    "\n",
    "# y_values are either 0, 1\n",
    "# received_measurements are the dictionary of probabilities\n",
    "def count_costs(x_values, y_values, angles, received_measurements):\n",
    "    cost = 0\n",
    "\n",
    "    for i in range(len(x_values)):\n",
    "        cost += mse(received_measurements[i], y_values[i])\n",
    "    \n",
    "    return cost / len(x_values)\n",
    "    "
   ]
  },
  {
   "cell_type": "code",
   "execution_count": 6,
   "metadata": {},
   "outputs": [],
   "source": [
    "def cost_across_x(num_qubits, x, y, angles):\n",
    "    measured = []\n",
    "    for i in x:\n",
    "        qc = prepare_circuit(num_qubits, i)\n",
    "        measured.append(rotation(num_qubits, angles, qc))\n",
    "    cost_count = count_costs(x, y, angles, measured)\n",
    "    return cost_count\n",
    "\n",
    "def optimize_angles(angles, cost, x_values, y_values, num_qubits, delta=0.3, learning_rate=0.7):\n",
    "    new_angles = angles\n",
    "    new_cost = cost\n",
    "    partial_derivatives = []\n",
    "\n",
    "    for i in range(len(angles)):\n",
    "        step_up = [j for j in angles]\n",
    "        step_up[i] += delta\n",
    "\n",
    "        step_down = [j for j in angles]\n",
    "        step_down[i] -= delta\n",
    "\n",
    "        cost_up = cost_across_x(num_qubits, x_values, y_values, step_up)\n",
    "        cost_down = cost_across_x(num_qubits, x_values, y_values, step_down)\n",
    "\n",
    "        if cost_up < new_cost:\n",
    "            new_cost = cost_up\n",
    "            new_angles = [angle for angle in step_up]\n",
    "        if cost_down < new_cost:\n",
    "            new_cost = cost_down\n",
    "            new_angles = [angle for angle in step_down]\n",
    "\n",
    "    return new_angles, new_cost\n",
    "        "
   ]
  },
  {
   "cell_type": "code",
   "execution_count": 7,
   "metadata": {},
   "outputs": [],
   "source": [
    "from scipy.optimize import minimize\n",
    "def train_naive(x, y, initial_angles, max_it=50):\n",
    "    measured = []\n",
    "\n",
    "    num_qubits = int(np.log2(len(x[0])))\n",
    "\n",
    "    for i in range(len(x)):\n",
    "        qc = prepare_circuit(num_qubits, x[i])\n",
    "        measured.append(rotation(num_qubits, initial_angles, qc))\n",
    "        \n",
    "    cost = count_costs(x, y, initial_angles, measured)\n",
    "    costs = [cost]\n",
    "    angles = [initial_angles]\n",
    "\n",
    "    print(f\"initial parameters and costs: ({initial_angles}, {cost})\")\n",
    "    i = 0\n",
    "    delta = 0.3\n",
    "\n",
    "    while i < max_it:\n",
    "\n",
    "        current_angles, current_cost = optimize_angles(angles[-1], costs[-1], x, y, num_qubits, delta=delta)\n",
    "\n",
    "        # if current_cost == costs[-1]:\n",
    "        #     delta += 0.2\n",
    "        \n",
    "        # if current_cost - costs[-1] >= 0.1 and delta >= 0.8:\n",
    "        #     delta -= 0.2\n",
    "\n",
    "        angles.append(current_angles)\n",
    "        costs.append(current_cost)\n",
    "        \n",
    "        print(f\"Iteration {i}: ({current_angles}, {current_cost})\")\n",
    "        \n",
    "        i += 1\n",
    "\n",
    "\n",
    "    print(f\"Iteration {i}: ({angles[-1]}, {costs[-1]})\")\n",
    "    x_costs = [cost for cost in costs]\n",
    "    y_axis = [i for i in range(len(x_costs))]\n",
    "\n",
    "    plt.plot(y_axis, x_costs)\n",
    "    index = x_costs.index(min(costs))\n",
    "    return angles[index]\n",
    "\n",
    "def train_library(x, y):\n",
    "    num_qubits = int(np.log2(len(x[0])))\n",
    "    initial_angles = [2 * np.pi * random() for _ in range(num_qubits)]\n",
    "    optimized = minimize(lambda angles: cost_across_x(num_qubits, x, y, angles), initial_angles, method='COBYLA')\n",
    "    return optimized, initial_angles"
   ]
  },
  {
   "cell_type": "code",
   "execution_count": 8,
   "metadata": {},
   "outputs": [
    {
     "name": "stdout",
     "output_type": "stream",
     "text": [
      "Column: Sex has ['M' 'F'] unique values\n",
      "\n",
      "Column: ExerciseAngina has ['N' 'Y'] unique values\n",
      "\n",
      "Column: ChestPainType has ['ATA' 'NAP' 'ASY' 'TA'] unique values\n",
      "\n",
      "Column: RestingECG has ['Normal' 'ST' 'LVH'] unique values\n",
      "\n",
      "Column: ST_Slope has ['Up' 'Flat' 'Down'] unique values\n",
      "\n",
      "features_train <class 'list'>\n",
      "features_test <class 'list'>\n",
      "target_train <class 'list'>\n",
      "target_test <class 'list'>\n",
      "Column: Sex has ['M' 'F'] unique values\n",
      "\n",
      "Column: ExerciseAngina has ['N' 'Y'] unique values\n",
      "\n",
      "Column: ChestPainType has ['ATA' 'NAP' 'ASY' 'TA'] unique values\n",
      "\n",
      "Column: RestingECG has ['Normal' 'ST' 'LVH'] unique values\n",
      "\n",
      "Column: ST_Slope has ['Up' 'Flat' 'Down'] unique values\n",
      "\n",
      "features_train <class 'list'>\n",
      "features_test <class 'list'>\n",
      "target_train <class 'list'>\n",
      "target_test <class 'list'>\n"
     ]
    }
   ],
   "source": [
    "# Fitting to data\n",
    "\n",
    "import preprocesstest as preprocess\n",
    "\n",
    "features_train, features_test, target_train, target_test = preprocess.filter(\"Data/testHeart.csv\")\n",
    "type(target_train)\n",
    "target_train =  [item for sublist in target_train for item in sublist]\n",
    "target_test = [item for sublist in target_test for item in sublist]"
   ]
  },
  {
   "cell_type": "code",
   "execution_count": 9,
   "metadata": {},
   "outputs": [
    {
     "name": "stdout",
     "output_type": "stream",
     "text": [
      "initial parameters and costs: ([3.23567453571658, 1.8665221808567265], 0.2903095015576323)\n",
      "Iteration 0: ([3.23567453571658, 2.1665221808567265], 0.2796792834890963)\n",
      "Iteration 1: ([3.23567453571658, 2.4665221808567264], 0.2673169781931463)\n",
      "Iteration 2: ([3.23567453571658, 2.766522180856726], 0.2566749221183802)\n",
      "Iteration 3: ([3.23567453571658, 3.066522180856726], 0.25117492211837994)\n",
      "Iteration 4: ([2.93567453571658, 3.066522180856726], 0.25099376947040497)\n",
      "Iteration 5: ([2.6356745357165803, 3.066522180856726], 0.25082616822429893)\n",
      "Iteration 6: ([2.6356745357165803, 3.066522180856726], 0.25082616822429893)\n",
      "Iteration 7: ([2.6356745357165803, 3.066522180856726], 0.25082616822429893)\n",
      "Iteration 8: ([2.6356745357165803, 3.066522180856726], 0.25082616822429893)\n",
      "Iteration 9: ([2.6356745357165803, 3.066522180856726], 0.25082616822429893)\n",
      "Iteration 10: ([2.6356745357165803, 3.066522180856726], 0.25082616822429893)\n",
      "Iteration 11: ([2.6356745357165803, 3.066522180856726], 0.25082616822429893)\n",
      "Iteration 12: ([2.6356745357165803, 3.066522180856726], 0.25082616822429893)\n",
      "Iteration 13: ([2.6356745357165803, 3.066522180856726], 0.25082616822429893)\n",
      "Iteration 14: ([2.6356745357165803, 3.066522180856726], 0.25082616822429893)\n",
      "Iteration 15: ([2.6356745357165803, 3.066522180856726], 0.25082616822429893)\n",
      "Iteration 16: ([2.6356745357165803, 3.066522180856726], 0.25082616822429893)\n",
      "Iteration 17: ([2.6356745357165803, 3.066522180856726], 0.25082616822429893)\n",
      "Iteration 18: ([2.6356745357165803, 3.066522180856726], 0.25082616822429893)\n",
      "Iteration 19: ([2.6356745357165803, 3.066522180856726], 0.25082616822429893)\n",
      "Iteration 20: ([2.6356745357165803, 3.066522180856726], 0.25082616822429893)\n",
      "Iteration 21: ([2.6356745357165803, 3.066522180856726], 0.25082616822429893)\n",
      "Iteration 22: ([2.6356745357165803, 3.066522180856726], 0.25082616822429893)\n",
      "Iteration 23: ([2.93567453571658, 3.066522180856726], 0.2503523364485981)\n",
      "Iteration 24: ([2.93567453571658, 3.066522180856726], 0.2503523364485981)\n",
      "Iteration 25: ([2.93567453571658, 3.066522180856726], 0.2503523364485981)\n",
      "Iteration 26: ([2.93567453571658, 3.066522180856726], 0.2503523364485981)\n",
      "Iteration 27: ([2.93567453571658, 3.066522180856726], 0.2503523364485981)\n",
      "Iteration 28: ([2.93567453571658, 3.066522180856726], 0.2503523364485981)\n",
      "Iteration 29: ([3.23567453571658, 3.066522180856726], 0.24939096573208727)\n",
      "Iteration 30: ([3.23567453571658, 3.066522180856726], 0.24939096573208727)\n"
     ]
    },
    {
     "data": {
      "image/png": "[encoded data removed]",
      "text/plain": [
       "<Figure size 432x288 with 1 Axes>"
      ]
     },
     "metadata": {
      "needs_background": "light"
     },
     "output_type": "display_data"
    }
   ],
   "source": [
    "final_obj, initial_angles = train_library(features_train, target_train)\n",
    "final_naive_array = train_naive(features_train, target_train, initial_angles, max_it=30)"
   ]
  },
  {
   "cell_type": "code",
   "execution_count": 18,
   "metadata": {},
   "outputs": [
    {
     "name": "stdout",
     "output_type": "stream",
     "text": [
      "Scipy accuracy: 0.4984423676012461\n",
      "Naive approach accuracy: 0.5062305295950156\n",
      "Initial angles accuracy: 0.5015576323987538\n"
     ]
    }
   ],
   "source": [
    "# testing accuracy\n",
    "final_array = final_obj.x.tolist()\n",
    "def test_accuracy(x, y, optimized_params):\n",
    "    measured = []\n",
    "\n",
    "    num_qubits = int(np.log2(len(x[0])))\n",
    "    for i in range(len(x)):\n",
    "        qc = prepare_circuit(num_qubits, x[i])\n",
    "        measured.append(rotation(num_qubits, initial_angles, qc))\n",
    "\n",
    "    actual_measurements = []\n",
    "\n",
    "    for i in measured:\n",
    "        if i[0] > i[1]:\n",
    "            actual_measurements.append(0)\n",
    "        else:\n",
    "            actual_measurements.append(1)\n",
    "\n",
    "    count_correct = 0\n",
    "\n",
    "    for i in range(len(y)):\n",
    "        if y[i] == actual_measurements[i]:\n",
    "            count_correct += 1\n",
    "    \n",
    "    return count_correct / len(y)\n",
    "\n",
    "def find_final_angles(cost_array, angles_array):\n",
    "    ind = cost_array.index((min(cost_array)))\n",
    "    return angles_array[ind]\n",
    "\n",
    "print(\"Scipy accuracy:\", test_accuracy(features_train, target_train, final_array))\n",
    "print(\"Naive approach accuracy:\", test_accuracy(features_train, target_train, final_naive_array))\n",
    "print(\"Initial angles accuracy:\", test_accuracy(features_train, target_train, initial_angles))"
   ]
  },
  {
   "cell_type": "code",
   "execution_count": 17,
   "metadata": {},
   "outputs": [
    {
     "name": "stdout",
     "output_type": "stream",
     "text": [
      "            ┌────────────────────────────────────────────────┐┌───────┐┌───┐»\n",
      "q1052245_0: ┤0                                               ├┤ Ry(π) ├┤ X ├»\n",
      "            │  Initialize(-0.65872,-0.11977,0.34328,0.65872) │├───────┤└─┬─┘»\n",
      "q1052245_1: ┤1                                               ├┤ Ry(π) ├──■──»\n",
      "            └────────────────────────────────────────────────┘└───────┘     »\n",
      "  c95658: 2/════════════════════════════════════════════════════════════════»\n",
      "                                                                            »\n",
      "    meas: 2/════════════════════════════════════════════════════════════════»\n",
      "                                                                            »\n",
      "«                  ░ ┌─┐   \n",
      "«q1052245_0: ──■───░─┤M├───\n",
      "«            ┌─┴─┐ ░ └╥┘┌─┐\n",
      "«q1052245_1: ┤ X ├─░──╫─┤M├\n",
      "«            └───┘ ░  ║ └╥┘\n",
      "«  c95658: 2/═════════╬══╬═\n",
      "«                     ║  ║ \n",
      "«    meas: 2/═════════╩══╩═\n",
      "«                     0  1 \n"
     ]
    },
    {
     "data": {
      "text/plain": [
       "5"
      ]
     },
     "execution_count": 17,
     "metadata": {},
     "output_type": "execute_result"
    }
   ],
   "source": [
    "# Resource Estimation\n",
    "\n",
    "from time import perf_counter\n",
    "start = perf_counter()\n",
    "angles = (np.pi, np.pi)\n",
    "num_qubits = 2\n",
    "qc = prepare_circuit(2, features_train[0])\n",
    "measurement = ClassicalRegister(2)\n",
    "qc.add_register(measurement)\n",
    "for i in range(2): # adds rotation gates\n",
    "    qc.ry(angles[i], i)\n",
    "\n",
    "for i in range(num_qubits - 1, 0, -1): # adds controlled X gates\n",
    "    qc.cx(i, i - 1)\n",
    "\n",
    "qc.cx(0, num_qubits - 1)\n",
    "\n",
    "qc.measure_all()\n",
    "end = perf_counter()\n",
    "\n",
    "time = end - start\n",
    "depth = qc.depth()\n",
    "print(qc)\n",
    "depth"
   ]
  }
 ],
 "metadata": {
  "kernelspec": {
   "display_name": "Python 3.8.10 64-bit",
   "language": "python",
   "name": "python3"
  },
  "language_info": {
   "codemirror_mode": {
    "name": "ipython",
    "version": 3
   },
   "file_extension": ".py",
   "mimetype": "text/x-python",
   "name": "python",
   "nbconvert_exporter": "python",
   "pygments_lexer": "ipython3",
   "version": "3.8.10"
  },
  "orig_nbformat": 4,
  "vscode": {
   "interpreter": {
    "hash": "916dbcbb3f70747c44a77c7bcd40155683ae19c65e1c03b4aa3499c5328201f1"
   }
  }
 },
 "nbformat": 4,
 "nbformat_minor": 2
}
