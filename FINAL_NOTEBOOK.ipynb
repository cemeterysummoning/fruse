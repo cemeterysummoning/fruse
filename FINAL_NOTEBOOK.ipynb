{
 "cells": [
  {
   "cell_type": "code",
   "execution_count": 3,
   "metadata": {},
   "outputs": [],
   "source": [
    "import numpy as np\n",
    "from qiskit import *\n",
    "from random import random, randint\n",
    "import matplotlib.pyplot as plt\n",
    "\n",
    "# import feature map\n",
    "from feature_mapping_initialize_method import *"
   ]
  },
  {
   "cell_type": "code",
   "execution_count": 4,
   "metadata": {},
   "outputs": [],
   "source": [
    "# Preparing feature-mapped circuit\n",
    "# Inputs: \n",
    "#   num_qubits: number of qubits (log_2 of number of features), \n",
    "#   feature_data: data pertaining to each feature\n",
    "# Outputs: \n",
    "#   qc: prepared quantum circuit\n",
    "def prepare_circuit(num_qubits, feature_data):\n",
    "    feature_data = normalize_data(feature_data)\n",
    "    q = QuantumRegister(num_qubits)\n",
    "    qc = QuantumCircuit(q)\n",
    "    qc.initialize(feature_data, qc.qubits)\n",
    "    return qc"
   ]
  },
  {
   "cell_type": "code",
   "execution_count": 5,
   "metadata": {},
   "outputs": [
    {
     "data": {
      "text/plain": [
       "4"
      ]
     },
     "execution_count": 5,
     "metadata": {},
     "output_type": "execute_result"
    }
   ],
   "source": [
    "# Measures a quantum circuit and processes the output\n",
    "# Inputs: \n",
    "#   circuit: quantum circuit\n",
    "#   s: number of shots\n",
    "# Outputs:\n",
    "#   counts: dictionary of results from measuring the circuit\n",
    "def process_output(circuit, s):\n",
    "    \n",
    "    arr = []\n",
    "\n",
    "    simulator = Aer.get_backend('aer_simulator')\n",
    "\n",
    "    job = execute(circuit, simulator, shots=s)\n",
    "    result = job.result()\n",
    "    counts = result.get_counts(circuit)\n",
    "    return counts\n",
    "\n",
    "# Classifies counts based on the parity of the bits\n",
    "# Inputs:\n",
    "#   counts: dictionary containing counts from the circuit\n",
    "#   shots: number of shots used in measurement\n",
    "# Outputs:\n",
    "#   dictionary containing the probability distribution of the data falling into each class\n",
    "def parity_probabilities(counts, shots=100):\n",
    "    class_0 = 0\n",
    "    class_1 = 0\n",
    "\n",
    "    for keyBefore, value in counts.items():\n",
    "        key = keyBefore.split()[0]\n",
    "        temp = int(key[0]) ^ int(key[1])\n",
    "        for i in range(2, len(key)):\n",
    "            temp = temp ^ int(key[i])\n",
    "        \n",
    "        if temp == 0:\n",
    "            class_0 += value\n",
    "        else:\n",
    "            class_1 += value\n",
    "    return {0: class_0 / shots, 1: class_1 / shots}\n",
    "\n",
    "# Performs a variational quantum circuit with arbitrary rotation gates\n",
    "# Inputs:\n",
    "#   register: quantum register for the qubits\n",
    "#   angles: list of parameters to be applied with the rotation gates\n",
    "#   qc: prepared quantum circuit\n",
    "# Outputs:\n",
    "#   parity_processed:\n",
    "def rotation(num_qubits, angles, qc):\n",
    "\n",
    "    measurement = ClassicalRegister(num_qubits)\n",
    "    qc.add_register(measurement)\n",
    "    for i in range(num_qubits): # adds rotation gates\n",
    "        qc.ry(angles[i], i)\n",
    "    \n",
    "    for i in range(num_qubits - 1, 0, -1): # adds controlled X gates\n",
    "        qc.cx(i, i - 1)\n",
    "\n",
    "    qc.cx(0, num_qubits - 1)\n",
    "\n",
    "    qc.measure_all()\n",
    "    s = 100\n",
    "    shots = process_output(qc, 100)\n",
    "    \n",
    "    parity_processed = parity_probabilities(shots) # processes with respect to parity\n",
    "    return parity_processed\n",
    "\n",
    "q = QuantumRegister(4)\n",
    "initial_angles = [2 * np.pi * random() for _ in range(4)]\n",
    "len(q)"
   ]
  },
  {
   "cell_type": "code",
   "execution_count": 6,
   "metadata": {},
   "outputs": [],
   "source": [
    "# Calculates mean squared error \n",
    "# Inputs: \n",
    "#   shots_count: dictionary of probabilities\n",
    "#   expected_value: either a 1 or a 0, corresponding to the data\n",
    "# Outputs:\n",
    "#   Mean squared error according to formula\n",
    "def mse(shots_count, expected_value):\n",
    "    probability_of_expected = shots_count[expected_value]\n",
    "    return (1 - probability_of_expected) ** 2\n",
    "\n",
    "# y_values are either 0, 1\n",
    "# received_measurements are the dictionary of probabilities\n",
    "def count_costs(x_values, y_values, angles, received_measurements):\n",
    "    cost = 0\n",
    "\n",
    "    for i in range(len(x_values)):\n",
    "        cost += mse(received_measurements[i], y_values[i])\n",
    "    \n",
    "    return cost / len(x_values)\n",
    "    "
   ]
  },
  {
   "cell_type": "code",
   "execution_count": 7,
   "metadata": {},
   "outputs": [],
   "source": [
    "def cost_across_x(num_qubits, x, y, angles):\n",
    "    measured = []\n",
    "    for i in x:\n",
    "        qc = prepare_circuit(num_qubits, i)\n",
    "        measured.append(rotation(num_qubits, angles, qc))\n",
    "    cost_count = count_costs(x, y, angles, measured)\n",
    "    return cost_count\n",
    "\n",
    "def optimize_angles(angles, cost, x_values, y_values, num_qubits, delta=0.1, learning_rate=0.5):\n",
    "    new_angles = []\n",
    "\n",
    "    for i in range(len(angles)):\n",
    "        step_up = [j for j in angles]\n",
    "        step_up[i] += delta\n",
    "\n",
    "        step_down = [j for j in angles]\n",
    "        step_down[i] -= delta\n",
    "\n",
    "        cost_up = cost_across_x(num_qubits, x_values, y_values, step_up)\n",
    "        cost_down = cost_across_x(num_qubits, x_values, y_values, step_down)\n",
    "        \n",
    "        angle_delta = (cost_up - cost_down) / (2 * delta)\n",
    "        new_angles.append(angles[i] - delta * angle_delta)\n",
    "        # if cost_up < new_cost:\n",
    "        #     new_cost = cost_up\n",
    "        #     new_angles = [angle for angle in step_up]\n",
    "        # if cost_down < new_cost:\n",
    "        #     new_cost = cost_down\n",
    "        #     new_angles = [angle for angle in step_down]\n",
    "    new_cost = cost_across_x(num_qubits, x_values, y_values, new_angles)\n",
    "\n",
    "    return new_angles, new_cost\n",
    "        "
   ]
  },
  {
   "cell_type": "code",
   "execution_count": 126,
   "metadata": {},
   "outputs": [
    {
     "name": "stdout",
     "output_type": "stream",
     "text": [
      "initial parameters and costs: ([0.8008918642590463, 4.785984924346849], 0.44794374999999986)\n",
      "Iteration 222: ([0.9185168642590449, 6.467017736846851], 0.24509999999999996)\n"
     ]
    },
    {
     "data": {
      "text/plain": [
       "<Figure size 432x288 with 0 Axes>"
      ]
     },
     "metadata": {},
     "output_type": "display_data"
    }
   ],
   "source": [
    "import matplotlib.pyplot as plt\n",
    "# random samples, toy data\n",
    "entries = 32\n",
    "\n",
    "x = []\n",
    "for _ in range(entries):\n",
    "    temp = [20 * random() for _ in range(4)]\n",
    "    while temp in x:\n",
    "        temp = 20 * random()\n",
    "    x.append(temp)\n",
    "\n",
    "y = [randint(0, 1) for _ in range(entries)]\n",
    "\n",
    "measured = []\n",
    "\n",
    "num_qubits = int(np.log2(len(x[0])))\n",
    "\n",
    "initial_angles = [2 * np.pi * random() for _ in range(num_qubits)]\n",
    "\n",
    "for i in range(len(x)):\n",
    "    qc = prepare_circuit(num_qubits, x[i])\n",
    "    measured.append(rotation(num_qubits, initial_angles, qc))\n",
    "    \n",
    "cost = count_costs(x, y, initial_angles, measured)\n",
    "costs = [cost]\n",
    "angles = [initial_angles]\n",
    "\n",
    "print(f\"initial parameters and costs: ({initial_angles}, {cost})\")\n",
    "i = 0\n",
    "while costs[-1] > 0.25:\n",
    "    plt.clf()\n",
    "    current_angles, current_cost = optimize_angles(angles[-1], costs[-1], x, y, num_qubits)\n",
    "    angles.append(current_angles)\n",
    "    costs.append(current_cost)\n",
    "    # print(f\"Iteration {i}: ({current_angles}, {current_cost})\")\n",
    "    \n",
    "    i += 1\n",
    "\n",
    "print(f\"Iteration {i}: ({angles[-1]}, {costs[-1]})\")"
   ]
  },
  {
   "cell_type": "code",
   "execution_count": 128,
   "metadata": {},
   "outputs": [
    {
     "data": {
      "text/plain": [
       "[<matplotlib.lines.Line2D at 0x7f46c66bfb80>]"
      ]
     },
     "execution_count": 128,
     "metadata": {},
     "output_type": "execute_result"
    },
    {
     "data": {
      "image/png": "[encoded data removed]",
      "text/plain": [
       "<Figure size 432x288 with 1 Axes>"
      ]
     },
     "metadata": {
      "needs_background": "light"
     },
     "output_type": "display_data"
    }
   ],
   "source": [
    "x = [cost for cost in costs]\n",
    "y = [i for i in range(len(x))]\n",
    "\n",
    "plt.plot(y, x)\n"
   ]
  },
  {
   "cell_type": "code",
   "execution_count": 8,
   "metadata": {},
   "outputs": [],
   "source": [
    "def train(x, y):\n",
    "    measured = []\n",
    "\n",
    "    num_qubits = int(np.log2(len(x[0])))\n",
    "\n",
    "    initial_angles = [2 * np.pi * random() for _ in range(num_qubits)]\n",
    "\n",
    "    for i in range(len(x)):\n",
    "        qc = prepare_circuit(num_qubits, x[i])\n",
    "        measured.append(rotation(num_qubits, initial_angles, qc))\n",
    "        \n",
    "    cost = count_costs(x, y, initial_angles, measured)\n",
    "    costs = [cost]\n",
    "    angles = [initial_angles]\n",
    "\n",
    "    print(f\"initial parameters and costs: ({initial_angles}, {cost})\")\n",
    "    i = 0\n",
    "    while costs[-1] > 0.25:\n",
    "        plt.clf()\n",
    "        current_angles, current_cost = optimize_angles(angles[-1], costs[-1], x, y, num_qubits)\n",
    "        angles.append(current_angles)\n",
    "        costs.append(current_cost)\n",
    "        # print(f\"Iteration {i}: ({current_angles}, {current_cost})\")\n",
    "        \n",
    "        i += 1\n",
    "\n",
    "    print(f\"Iteration {i}: ({angles[-1]}, {costs[-1]})\")\n",
    "    x = [cost for cost in costs]\n",
    "    y = [i for i in range(len(x))]\n",
    "\n",
    "    plt.plot(y, x)\n",
    "\n",
    "    return angles[-1]"
   ]
  },
  {
   "cell_type": "code",
   "execution_count": 30,
   "metadata": {},
   "outputs": [
    {
     "name": "stdout",
     "output_type": "stream",
     "text": [
      "Column: Sex has ['M' 'F'] unique values\n",
      "\n",
      "Column: ST_Slope has ['Up' 'Flat' 'Down'] unique values\n",
      "\n",
      "Column: ChestPainType has ['ATA' 'NAP' 'ASY' 'TA'] unique values\n",
      "\n",
      "Column: RestingECG has ['Normal' 'ST' 'LVH'] unique values\n",
      "\n",
      "Column: ExerciseAngina has ['N' 'Y'] unique values\n",
      "\n",
      "features_train <class 'list'>\n",
      "features_test <class 'list'>\n",
      "target_train <class 'list'>\n",
      "target_test <class 'list'>\n"
     ]
    }
   ],
   "source": [
    "# Fitting to data\n",
    "\n",
    "import preprocesstest as preprocess\n",
    "\n",
    "features_train, features_test, target_train, target_test = preprocess.filter(\"Data/testHeart.csv\")\n",
    "type(target_train)\n",
    "target_train =  [item for sublist in target_train for item in sublist]\n",
    "target_test = [item for sublist in target_test for item in sublist]"
   ]
  },
  {
   "cell_type": "code",
   "execution_count": 35,
   "metadata": {},
   "outputs": [],
   "source": [
    "train(features_train, target_train)\n",
    "# measured = []\n",
    "\n",
    "# num_qubits = int(np.log2(len(features_train[0])))\n",
    "\n",
    "# initial_angles = [2 * np.pi * random() for _ in range(num_qubits)]\n",
    "\n",
    "# for i in range(len(features_train)):\n",
    "#     qc = prepare_circuit(num_qubits, features_train[i])\n",
    "#     measured.append(rotation(num_qubits, initial_angles, qc))\n",
    "\n",
    "# mse(measured[0], target_train[0])\n",
    "# cost = count_costs(features_train, target_train, initial_angles, measured)\n"
   ]
  },
  {
   "cell_type": "code",
   "execution_count": null,
   "metadata": {},
   "outputs": [],
   "source": []
  }
 ],
 "metadata": {
  "kernelspec": {
   "display_name": "Python 3.8.10 64-bit",
   "language": "python",
   "name": "python3"
  },
  "language_info": {
   "codemirror_mode": {
    "name": "ipython",
    "version": 3
   },
   "file_extension": ".py",
   "mimetype": "text/x-python",
   "name": "python",
   "nbconvert_exporter": "python",
   "pygments_lexer": "ipython3",
   "version": "3.8.10"
  },
  "orig_nbformat": 4,
  "vscode": {
   "interpreter": {
    "hash": "916dbcbb3f70747c44a77c7bcd40155683ae19c65e1c03b4aa3499c5328201f1"
   }
  }
 },
 "nbformat": 4,
 "nbformat_minor": 2
}
