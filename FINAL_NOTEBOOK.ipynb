{
 "cells": [
  {
   "cell_type": "code",
   "execution_count": 3,
   "metadata": {},
   "outputs": [],
   "source": [
    "import numpy as np\n",
    "from qiskit import *\n",
    "from random import random, randint\n",
    "import matplotlib.pyplot as plt\n",
    "\n",
    "# import feature map\n",
    "from feature_mapping_initialize_method import *"
   ]
  },
  {
   "cell_type": "code",
   "execution_count": 4,
   "metadata": {},
   "outputs": [],
   "source": [
    "# Preparing feature-mapped circuit\n",
    "# Inputs: \n",
    "#   num_qubits: number of qubits (log_2 of number of features), \n",
    "#   feature_data: data pertaining to each feature\n",
    "# Outputs: \n",
    "#   qc: prepared quantum circuit\n",
    "def prepare_circuit(num_qubits, feature_data):\n",
    "    feature_data = normalize_data(feature_data)\n",
    "    q = QuantumRegister(num_qubits)\n",
    "    qc = QuantumCircuit(q)\n",
    "    qc.initialize(feature_data, qc.qubits)\n",
    "    return qc"
   ]
  },
  {
   "cell_type": "code",
   "execution_count": 5,
   "metadata": {},
   "outputs": [
    {
     "data": {
      "text/plain": [
       "4"
      ]
     },
     "execution_count": 5,
     "metadata": {},
     "output_type": "execute_result"
    }
   ],
   "source": [
    "# Measures a quantum circuit and processes the output\n",
    "# Inputs: \n",
    "#   circuit: quantum circuit\n",
    "#   s: number of shots\n",
    "# Outputs:\n",
    "#   counts: dictionary of results from measuring the circuit\n",
    "def process_output(circuit, s):\n",
    "    \n",
    "    arr = []\n",
    "\n",
    "    simulator = Aer.get_backend('aer_simulator')\n",
    "\n",
    "    job = execute(circuit, simulator, shots=s)\n",
    "    result = job.result()\n",
    "    counts = result.get_counts(circuit)\n",
    "    return counts\n",
    "\n",
    "# Classifies counts based on the parity of the bits\n",
    "# Inputs:\n",
    "#   counts: dictionary containing counts from the circuit\n",
    "#   shots: number of shots used in measurement\n",
    "# Outputs:\n",
    "#   dictionary containing the probability distribution of the data falling into each class\n",
    "def parity_probabilities(counts, shots=100):\n",
    "    class_0 = 0\n",
    "    class_1 = 0\n",
    "\n",
    "    for keyBefore, value in counts.items():\n",
    "        key = keyBefore.split()[0]\n",
    "        temp = int(key[0]) ^ int(key[1])\n",
    "        for i in range(2, len(key)):\n",
    "            temp = temp ^ int(key[i])\n",
    "        \n",
    "        if temp == 0:\n",
    "            class_0 += value\n",
    "        else:\n",
    "            class_1 += value\n",
    "    return {0: class_0 / shots, 1: class_1 / shots}\n",
    "\n",
    "# Performs a variational quantum circuit with arbitrary rotation gates\n",
    "# Inputs:\n",
    "#   register: quantum register for the qubits\n",
    "#   angles: list of parameters to be applied with the rotation gates\n",
    "#   qc: prepared quantum circuit\n",
    "# Outputs:\n",
    "#   parity_processed:\n",
    "def rotation(num_qubits, angles, qc):\n",
    "\n",
    "    measurement = ClassicalRegister(num_qubits)\n",
    "    qc.add_register(measurement)\n",
    "    for i in range(num_qubits): # adds rotation gates\n",
    "        qc.ry(angles[i], i)\n",
    "    \n",
    "    for i in range(num_qubits - 1, 0, -1): # adds controlled X gates\n",
    "        qc.cx(i, i - 1)\n",
    "\n",
    "    qc.cx(0, num_qubits - 1)\n",
    "\n",
    "    qc.measure_all()\n",
    "    s = 100\n",
    "    shots = process_output(qc, 100)\n",
    "    \n",
    "    parity_processed = parity_probabilities(shots) # processes with respect to parity\n",
    "    return parity_processed\n",
    "\n",
    "q = QuantumRegister(4)\n",
    "initial_angles = [2 * np.pi * random() for _ in range(4)]\n",
    "len(q)"
   ]
  },
  {
   "cell_type": "code",
   "execution_count": 6,
   "metadata": {},
   "outputs": [],
   "source": [
    "# Calculates mean squared error \n",
    "# Inputs: \n",
    "#   shots_count: dictionary of probabilities\n",
    "#   expected_value: either a 1 or a 0, corresponding to the data\n",
    "# Outputs:\n",
    "#   Mean squared error according to formula\n",
    "def mse(shots_count, expected_value):\n",
    "    probability_of_expected = shots_count[expected_value]\n",
    "    return (1 - probability_of_expected) ** 2\n",
    "\n",
    "# y_values are either 0, 1\n",
    "# received_measurements are the dictionary of probabilities\n",
    "def count_costs(x_values, y_values, angles, received_measurements):\n",
    "    cost = 0\n",
    "\n",
    "    for i in range(len(x_values)):\n",
    "        cost += mse(received_measurements[i], y_values[i])\n",
    "    \n",
    "    return cost / len(x_values)\n",
    "    "
   ]
  },
  {
   "cell_type": "code",
   "execution_count": 61,
   "metadata": {},
   "outputs": [],
   "source": [
    "def cost_across_x(num_qubits, x, y, angles):\n",
    "    measured = []\n",
    "    for i in x:\n",
    "        qc = prepare_circuit(num_qubits, i)\n",
    "        measured.append(rotation(num_qubits, angles, qc))\n",
    "    cost_count = count_costs(x, y, angles, measured)\n",
    "    return cost_count\n",
    "\n",
    "def optimize_angles(angles, cost, x_values, y_values, num_qubits, delta=0.3, learning_rate=0.7):\n",
    "    new_angles = [angle + delta / 2 for angle in angles]\n",
    "    new_cost = cost\n",
    "\n",
    "    for i in range(len(angles)):\n",
    "        step_up = [j for j in angles]\n",
    "        step_up[i] += delta\n",
    "\n",
    "        step_down = [j for j in angles]\n",
    "        step_down[i] -= delta\n",
    "\n",
    "        cost_up = cost_across_x(num_qubits, x_values, y_values, step_up)\n",
    "        cost_down = cost_across_x(num_qubits, x_values, y_values, step_down)\n",
    "        \n",
    "        # angle_delta = (cost_up - cost_down) / (2 * delta)\n",
    "        # new_angles.append(angles[i] - delta * angle_delta)\n",
    "        \n",
    "        if cost_up < new_cost:\n",
    "            new_cost = cost_up\n",
    "            new_angles = [angle for angle in step_up]\n",
    "        if cost_down < new_cost:\n",
    "            new_cost = cost_down\n",
    "            new_angles = [angle for angle in step_down]\n",
    "    # new_cost = cost_across_x(num_qubits, x_values, y_values, new_angles)\n",
    "\n",
    "    return new_angles, new_cost\n",
    "        "
   ]
  },
  {
   "cell_type": "code",
   "execution_count": 62,
   "metadata": {},
   "outputs": [
    {
     "name": "stdout",
     "output_type": "stream",
     "text": [
      "initial parameters and costs: ([5.349501059909796, 5.410710627269352], 0.29111562499999993)\n"
     ]
    },
    {
     "ename": "KeyboardInterrupt",
     "evalue": "",
     "output_type": "error",
     "traceback": [
      "\u001b[0;31m---------------------------------------------------------------------------\u001b[0m",
      "\u001b[0;31mKeyboardInterrupt\u001b[0m                         Traceback (most recent call last)",
      "\u001b[1;32m/home/ace/scripts/quantum_final_project/FINAL_NOTEBOOK.ipynb Cell 6\u001b[0m in \u001b[0;36m<cell line: 30>\u001b[0;34m()\u001b[0m\n\u001b[1;32m     <a href='vscode-notebook-cell:/home/ace/scripts/quantum_final_project/FINAL_NOTEBOOK.ipynb#ch0000005?line=29'>30</a>\u001b[0m \u001b[39mwhile\u001b[39;00m costs[\u001b[39m-\u001b[39m\u001b[39m1\u001b[39m] \u001b[39m>\u001b[39m \u001b[39m0.25\u001b[39m:\n\u001b[1;32m     <a href='vscode-notebook-cell:/home/ace/scripts/quantum_final_project/FINAL_NOTEBOOK.ipynb#ch0000005?line=30'>31</a>\u001b[0m     plt\u001b[39m.\u001b[39mclf()\n\u001b[0;32m---> <a href='vscode-notebook-cell:/home/ace/scripts/quantum_final_project/FINAL_NOTEBOOK.ipynb#ch0000005?line=31'>32</a>\u001b[0m     current_angles, current_cost \u001b[39m=\u001b[39m optimize_angles(angles[\u001b[39m-\u001b[39;49m\u001b[39m1\u001b[39;49m], costs[\u001b[39m-\u001b[39;49m\u001b[39m1\u001b[39;49m], x, y, num_qubits)\n\u001b[1;32m     <a href='vscode-notebook-cell:/home/ace/scripts/quantum_final_project/FINAL_NOTEBOOK.ipynb#ch0000005?line=32'>33</a>\u001b[0m     angles\u001b[39m.\u001b[39mappend(current_angles)\n\u001b[1;32m     <a href='vscode-notebook-cell:/home/ace/scripts/quantum_final_project/FINAL_NOTEBOOK.ipynb#ch0000005?line=33'>34</a>\u001b[0m     costs\u001b[39m.\u001b[39mappend(current_cost)\n",
      "\u001b[1;32m/home/ace/scripts/quantum_final_project/FINAL_NOTEBOOK.ipynb Cell 6\u001b[0m in \u001b[0;36moptimize_angles\u001b[0;34m(angles, cost, x_values, y_values, num_qubits, delta, learning_rate)\u001b[0m\n\u001b[1;32m     <a href='vscode-notebook-cell:/home/ace/scripts/quantum_final_project/FINAL_NOTEBOOK.ipynb#ch0000005?line=17'>18</a>\u001b[0m step_down[i] \u001b[39m-\u001b[39m\u001b[39m=\u001b[39m delta\n\u001b[1;32m     <a href='vscode-notebook-cell:/home/ace/scripts/quantum_final_project/FINAL_NOTEBOOK.ipynb#ch0000005?line=19'>20</a>\u001b[0m cost_up \u001b[39m=\u001b[39m cost_across_x(num_qubits, x_values, y_values, step_up)\n\u001b[0;32m---> <a href='vscode-notebook-cell:/home/ace/scripts/quantum_final_project/FINAL_NOTEBOOK.ipynb#ch0000005?line=20'>21</a>\u001b[0m cost_down \u001b[39m=\u001b[39m cost_across_x(num_qubits, x_values, y_values, step_down)\n\u001b[1;32m     <a href='vscode-notebook-cell:/home/ace/scripts/quantum_final_project/FINAL_NOTEBOOK.ipynb#ch0000005?line=22'>23</a>\u001b[0m \u001b[39m# angle_delta = (cost_up - cost_down) / (2 * delta)\u001b[39;00m\n\u001b[1;32m     <a href='vscode-notebook-cell:/home/ace/scripts/quantum_final_project/FINAL_NOTEBOOK.ipynb#ch0000005?line=23'>24</a>\u001b[0m \u001b[39m# new_angles.append(angles[i] - delta * angle_delta)\u001b[39;00m\n\u001b[1;32m     <a href='vscode-notebook-cell:/home/ace/scripts/quantum_final_project/FINAL_NOTEBOOK.ipynb#ch0000005?line=25'>26</a>\u001b[0m \u001b[39mif\u001b[39;00m cost_up \u001b[39m<\u001b[39m new_cost:\n",
      "\u001b[1;32m/home/ace/scripts/quantum_final_project/FINAL_NOTEBOOK.ipynb Cell 6\u001b[0m in \u001b[0;36mcost_across_x\u001b[0;34m(num_qubits, x, y, angles)\u001b[0m\n\u001b[1;32m      <a href='vscode-notebook-cell:/home/ace/scripts/quantum_final_project/FINAL_NOTEBOOK.ipynb#ch0000005?line=2'>3</a>\u001b[0m \u001b[39mfor\u001b[39;00m i \u001b[39min\u001b[39;00m x:\n\u001b[1;32m      <a href='vscode-notebook-cell:/home/ace/scripts/quantum_final_project/FINAL_NOTEBOOK.ipynb#ch0000005?line=3'>4</a>\u001b[0m     qc \u001b[39m=\u001b[39m prepare_circuit(num_qubits, i)\n\u001b[0;32m----> <a href='vscode-notebook-cell:/home/ace/scripts/quantum_final_project/FINAL_NOTEBOOK.ipynb#ch0000005?line=4'>5</a>\u001b[0m     measured\u001b[39m.\u001b[39mappend(rotation(num_qubits, angles, qc))\n\u001b[1;32m      <a href='vscode-notebook-cell:/home/ace/scripts/quantum_final_project/FINAL_NOTEBOOK.ipynb#ch0000005?line=5'>6</a>\u001b[0m cost_count \u001b[39m=\u001b[39m count_costs(x, y, angles, measured)\n\u001b[1;32m      <a href='vscode-notebook-cell:/home/ace/scripts/quantum_final_project/FINAL_NOTEBOOK.ipynb#ch0000005?line=6'>7</a>\u001b[0m \u001b[39mreturn\u001b[39;00m cost_count\n",
      "\u001b[1;32m/home/ace/scripts/quantum_final_project/FINAL_NOTEBOOK.ipynb Cell 6\u001b[0m in \u001b[0;36mrotation\u001b[0;34m(num_qubits, angles, qc)\u001b[0m\n\u001b[1;32m     <a href='vscode-notebook-cell:/home/ace/scripts/quantum_final_project/FINAL_NOTEBOOK.ipynb#ch0000005?line=58'>59</a>\u001b[0m qc\u001b[39m.\u001b[39mmeasure_all()\n\u001b[1;32m     <a href='vscode-notebook-cell:/home/ace/scripts/quantum_final_project/FINAL_NOTEBOOK.ipynb#ch0000005?line=59'>60</a>\u001b[0m s \u001b[39m=\u001b[39m \u001b[39m100\u001b[39m\n\u001b[0;32m---> <a href='vscode-notebook-cell:/home/ace/scripts/quantum_final_project/FINAL_NOTEBOOK.ipynb#ch0000005?line=60'>61</a>\u001b[0m shots \u001b[39m=\u001b[39m process_output(qc, \u001b[39m100\u001b[39;49m)\n\u001b[1;32m     <a href='vscode-notebook-cell:/home/ace/scripts/quantum_final_project/FINAL_NOTEBOOK.ipynb#ch0000005?line=62'>63</a>\u001b[0m parity_processed \u001b[39m=\u001b[39m parity_probabilities(shots) \u001b[39m# processes with respect to parity\u001b[39;00m\n\u001b[1;32m     <a href='vscode-notebook-cell:/home/ace/scripts/quantum_final_project/FINAL_NOTEBOOK.ipynb#ch0000005?line=63'>64</a>\u001b[0m \u001b[39mreturn\u001b[39;00m parity_processed\n",
      "\u001b[1;32m/home/ace/scripts/quantum_final_project/FINAL_NOTEBOOK.ipynb Cell 6\u001b[0m in \u001b[0;36mprocess_output\u001b[0;34m(circuit, s)\u001b[0m\n\u001b[1;32m      <a href='vscode-notebook-cell:/home/ace/scripts/quantum_final_project/FINAL_NOTEBOOK.ipynb#ch0000005?line=8'>9</a>\u001b[0m arr \u001b[39m=\u001b[39m []\n\u001b[1;32m     <a href='vscode-notebook-cell:/home/ace/scripts/quantum_final_project/FINAL_NOTEBOOK.ipynb#ch0000005?line=10'>11</a>\u001b[0m simulator \u001b[39m=\u001b[39m Aer\u001b[39m.\u001b[39mget_backend(\u001b[39m'\u001b[39m\u001b[39maer_simulator\u001b[39m\u001b[39m'\u001b[39m)\n\u001b[0;32m---> <a href='vscode-notebook-cell:/home/ace/scripts/quantum_final_project/FINAL_NOTEBOOK.ipynb#ch0000005?line=12'>13</a>\u001b[0m job \u001b[39m=\u001b[39m execute(circuit, simulator, shots\u001b[39m=\u001b[39;49ms)\n\u001b[1;32m     <a href='vscode-notebook-cell:/home/ace/scripts/quantum_final_project/FINAL_NOTEBOOK.ipynb#ch0000005?line=13'>14</a>\u001b[0m result \u001b[39m=\u001b[39m job\u001b[39m.\u001b[39mresult()\n\u001b[1;32m     <a href='vscode-notebook-cell:/home/ace/scripts/quantum_final_project/FINAL_NOTEBOOK.ipynb#ch0000005?line=14'>15</a>\u001b[0m counts \u001b[39m=\u001b[39m result\u001b[39m.\u001b[39mget_counts(circuit)\n",
      "File \u001b[0;32m~/.local/lib/python3.8/site-packages/qiskit/execute_function.py:299\u001b[0m, in \u001b[0;36mexecute\u001b[0;34m(experiments, backend, basis_gates, coupling_map, backend_properties, initial_layout, seed_transpiler, optimization_level, pass_manager, qobj_id, qobj_header, shots, memory, max_credits, seed_simulator, default_qubit_los, default_meas_los, qubit_lo_range, meas_lo_range, schedule_los, meas_level, meas_return, memory_slots, memory_slot_size, rep_time, rep_delay, parameter_binds, schedule_circuit, inst_map, meas_map, scheduling_method, init_qubits, **run_config)\u001b[0m\n\u001b[1;32m    296\u001b[0m     experiments \u001b[39m=\u001b[39m pass_manager\u001b[39m.\u001b[39mrun(experiments)\n\u001b[1;32m    297\u001b[0m \u001b[39melse\u001b[39;00m:\n\u001b[1;32m    298\u001b[0m     \u001b[39m# transpiling the circuits using given transpile options\u001b[39;00m\n\u001b[0;32m--> 299\u001b[0m     experiments \u001b[39m=\u001b[39m transpile(\n\u001b[1;32m    300\u001b[0m         experiments,\n\u001b[1;32m    301\u001b[0m         basis_gates\u001b[39m=\u001b[39;49mbasis_gates,\n\u001b[1;32m    302\u001b[0m         coupling_map\u001b[39m=\u001b[39;49mcoupling_map,\n\u001b[1;32m    303\u001b[0m         backend_properties\u001b[39m=\u001b[39;49mbackend_properties,\n\u001b[1;32m    304\u001b[0m         initial_layout\u001b[39m=\u001b[39;49minitial_layout,\n\u001b[1;32m    305\u001b[0m         seed_transpiler\u001b[39m=\u001b[39;49mseed_transpiler,\n\u001b[1;32m    306\u001b[0m         optimization_level\u001b[39m=\u001b[39;49moptimization_level,\n\u001b[1;32m    307\u001b[0m         backend\u001b[39m=\u001b[39;49mbackend,\n\u001b[1;32m    308\u001b[0m     )\n\u001b[1;32m    310\u001b[0m \u001b[39mif\u001b[39;00m schedule_circuit:\n\u001b[1;32m    311\u001b[0m     experiments \u001b[39m=\u001b[39m schedule(\n\u001b[1;32m    312\u001b[0m         circuits\u001b[39m=\u001b[39mexperiments,\n\u001b[1;32m    313\u001b[0m         backend\u001b[39m=\u001b[39mbackend,\n\u001b[0;32m   (...)\u001b[0m\n\u001b[1;32m    316\u001b[0m         method\u001b[39m=\u001b[39mscheduling_method,\n\u001b[1;32m    317\u001b[0m     )\n",
      "File \u001b[0;32m~/.local/lib/python3.8/site-packages/qiskit/compiler/transpiler.py:341\u001b[0m, in \u001b[0;36mtranspile\u001b[0;34m(circuits, backend, basis_gates, inst_map, coupling_map, backend_properties, initial_layout, layout_method, routing_method, translation_method, scheduling_method, instruction_durations, dt, approximation_degree, timing_constraints, seed_transpiler, optimization_level, callback, output_name, unitary_synthesis_method, unitary_synthesis_plugin_config, target)\u001b[0m\n\u001b[1;32m    338\u001b[0m     \u001b[39mfor\u001b[39;00m circuit, unique_args \u001b[39min\u001b[39;00m \u001b[39mzip\u001b[39m(circuits, unique_transpile_args):\n\u001b[1;32m    339\u001b[0m         transpile_config, pass_manager \u001b[39m=\u001b[39m _combine_args(shared_args, unique_args)\n\u001b[1;32m    340\u001b[0m         output_circuits\u001b[39m.\u001b[39mappend(\n\u001b[0;32m--> 341\u001b[0m             _serial_transpile_circuit(\n\u001b[1;32m    342\u001b[0m                 circuit,\n\u001b[1;32m    343\u001b[0m                 pass_manager,\n\u001b[1;32m    344\u001b[0m                 transpile_config[\u001b[39m\"\u001b[39;49m\u001b[39mcallback\u001b[39;49m\u001b[39m\"\u001b[39;49m],\n\u001b[1;32m    345\u001b[0m                 transpile_config[\u001b[39m\"\u001b[39;49m\u001b[39moutput_name\u001b[39;49m\u001b[39m\"\u001b[39;49m],\n\u001b[1;32m    346\u001b[0m                 transpile_config[\u001b[39m\"\u001b[39;49m\u001b[39mbackend_num_qubits\u001b[39;49m\u001b[39m\"\u001b[39;49m],\n\u001b[1;32m    347\u001b[0m                 transpile_config[\u001b[39m\"\u001b[39;49m\u001b[39mfaulty_qubits_map\u001b[39;49m\u001b[39m\"\u001b[39;49m],\n\u001b[1;32m    348\u001b[0m                 transpile_config[\u001b[39m\"\u001b[39;49m\u001b[39mpass_manager_config\u001b[39;49m\u001b[39m\"\u001b[39;49m]\u001b[39m.\u001b[39;49mbackend_properties,\n\u001b[1;32m    349\u001b[0m             )\n\u001b[1;32m    350\u001b[0m         )\n\u001b[1;32m    351\u001b[0m     circuits \u001b[39m=\u001b[39m output_circuits\n\u001b[1;32m    352\u001b[0m end_time \u001b[39m=\u001b[39m time()\n",
      "File \u001b[0;32m~/.local/lib/python3.8/site-packages/qiskit/compiler/transpiler.py:434\u001b[0m, in \u001b[0;36m_serial_transpile_circuit\u001b[0;34m(circuit, pass_manager, callback, output_name, num_qubits, faulty_qubits_map, backend_prop)\u001b[0m\n\u001b[1;32m    425\u001b[0m \u001b[39mdef\u001b[39;00m \u001b[39m_serial_transpile_circuit\u001b[39m(\n\u001b[1;32m    426\u001b[0m     circuit,\n\u001b[1;32m    427\u001b[0m     pass_manager,\n\u001b[0;32m   (...)\u001b[0m\n\u001b[1;32m    432\u001b[0m     backend_prop\u001b[39m=\u001b[39m\u001b[39mNone\u001b[39;00m,\n\u001b[1;32m    433\u001b[0m ):\n\u001b[0;32m--> 434\u001b[0m     result \u001b[39m=\u001b[39m pass_manager\u001b[39m.\u001b[39;49mrun(circuit, callback\u001b[39m=\u001b[39;49mcallback, output_name\u001b[39m=\u001b[39;49moutput_name)\n\u001b[1;32m    435\u001b[0m     \u001b[39mif\u001b[39;00m faulty_qubits_map:\n\u001b[1;32m    436\u001b[0m         \u001b[39mreturn\u001b[39;00m _remap_circuit_faulty_backend(\n\u001b[1;32m    437\u001b[0m             result,\n\u001b[1;32m    438\u001b[0m             num_qubits,\n\u001b[1;32m    439\u001b[0m             backend_prop,\n\u001b[1;32m    440\u001b[0m             faulty_qubits_map,\n\u001b[1;32m    441\u001b[0m         )\n",
      "File \u001b[0;32m~/.local/lib/python3.8/site-packages/qiskit/transpiler/passmanager.py:507\u001b[0m, in \u001b[0;36mStagedPassManager.run\u001b[0;34m(self, circuits, output_name, callback)\u001b[0m\n\u001b[1;32m    500\u001b[0m \u001b[39mdef\u001b[39;00m \u001b[39mrun\u001b[39m(\n\u001b[1;32m    501\u001b[0m     \u001b[39mself\u001b[39m,\n\u001b[1;32m    502\u001b[0m     circuits: Union[QuantumCircuit, List[QuantumCircuit]],\n\u001b[1;32m    503\u001b[0m     output_name: \u001b[39mstr\u001b[39m \u001b[39m=\u001b[39m \u001b[39mNone\u001b[39;00m,\n\u001b[1;32m    504\u001b[0m     callback: Callable \u001b[39m=\u001b[39m \u001b[39mNone\u001b[39;00m,\n\u001b[1;32m    505\u001b[0m ) \u001b[39m-\u001b[39m\u001b[39m>\u001b[39m Union[QuantumCircuit, List[QuantumCircuit]]:\n\u001b[1;32m    506\u001b[0m     \u001b[39mself\u001b[39m\u001b[39m.\u001b[39m_update_passmanager()\n\u001b[0;32m--> 507\u001b[0m     \u001b[39mreturn\u001b[39;00m \u001b[39msuper\u001b[39;49m()\u001b[39m.\u001b[39;49mrun(circuits, output_name, callback)\n",
      "File \u001b[0;32m~/.local/lib/python3.8/site-packages/qiskit/transpiler/passmanager.py:224\u001b[0m, in \u001b[0;36mPassManager.run\u001b[0;34m(self, circuits, output_name, callback)\u001b[0m\n\u001b[1;32m    222\u001b[0m     \u001b[39mreturn\u001b[39;00m circuits\n\u001b[1;32m    223\u001b[0m \u001b[39mif\u001b[39;00m \u001b[39misinstance\u001b[39m(circuits, QuantumCircuit):\n\u001b[0;32m--> 224\u001b[0m     \u001b[39mreturn\u001b[39;00m \u001b[39mself\u001b[39;49m\u001b[39m.\u001b[39;49m_run_single_circuit(circuits, output_name, callback)\n\u001b[1;32m    225\u001b[0m \u001b[39mif\u001b[39;00m \u001b[39mlen\u001b[39m(circuits) \u001b[39m==\u001b[39m \u001b[39m1\u001b[39m:\n\u001b[1;32m    226\u001b[0m     \u001b[39mreturn\u001b[39;00m \u001b[39mself\u001b[39m\u001b[39m.\u001b[39m_run_single_circuit(circuits[\u001b[39m0\u001b[39m], output_name, callback)\n",
      "File \u001b[0;32m~/.local/lib/python3.8/site-packages/qiskit/transpiler/passmanager.py:279\u001b[0m, in \u001b[0;36mPassManager._run_single_circuit\u001b[0;34m(self, circuit, output_name, callback)\u001b[0m\n\u001b[1;32m    267\u001b[0m \u001b[39m\"\"\"Run all the passes on a ``circuit``.\u001b[39;00m\n\u001b[1;32m    268\u001b[0m \n\u001b[1;32m    269\u001b[0m \u001b[39mArgs:\u001b[39;00m\n\u001b[0;32m   (...)\u001b[0m\n\u001b[1;32m    276\u001b[0m \u001b[39m    The transformed circuit.\u001b[39;00m\n\u001b[1;32m    277\u001b[0m \u001b[39m\"\"\"\u001b[39;00m\n\u001b[1;32m    278\u001b[0m running_passmanager \u001b[39m=\u001b[39m \u001b[39mself\u001b[39m\u001b[39m.\u001b[39m_create_running_passmanager()\n\u001b[0;32m--> 279\u001b[0m result \u001b[39m=\u001b[39m running_passmanager\u001b[39m.\u001b[39;49mrun(circuit, output_name\u001b[39m=\u001b[39;49moutput_name, callback\u001b[39m=\u001b[39;49mcallback)\n\u001b[1;32m    280\u001b[0m \u001b[39mself\u001b[39m\u001b[39m.\u001b[39mproperty_set \u001b[39m=\u001b[39m running_passmanager\u001b[39m.\u001b[39mproperty_set\n\u001b[1;32m    281\u001b[0m \u001b[39mreturn\u001b[39;00m result\n",
      "File \u001b[0;32m~/.local/lib/python3.8/site-packages/qiskit/transpiler/runningpassmanager.py:124\u001b[0m, in \u001b[0;36mRunningPassManager.run\u001b[0;34m(***failed resolving arguments***)\u001b[0m\n\u001b[1;32m    122\u001b[0m \u001b[39mfor\u001b[39;00m passset \u001b[39min\u001b[39;00m \u001b[39mself\u001b[39m\u001b[39m.\u001b[39mworking_list:\n\u001b[1;32m    123\u001b[0m     \u001b[39mfor\u001b[39;00m pass_ \u001b[39min\u001b[39;00m passset:\n\u001b[0;32m--> 124\u001b[0m         dag \u001b[39m=\u001b[39m \u001b[39mself\u001b[39;49m\u001b[39m.\u001b[39;49m_do_pass(pass_, dag, passset\u001b[39m.\u001b[39;49moptions)\n\u001b[1;32m    126\u001b[0m circuit \u001b[39m=\u001b[39m dag_to_circuit(dag)\n\u001b[1;32m    127\u001b[0m \u001b[39mif\u001b[39;00m output_name:\n",
      "File \u001b[0;32m~/.local/lib/python3.8/site-packages/qiskit/transpiler/runningpassmanager.py:167\u001b[0m, in \u001b[0;36mRunningPassManager._do_pass\u001b[0;34m(self, pass_, dag, options)\u001b[0m\n\u001b[1;32m    165\u001b[0m \u001b[39m# Run the pass itself, if not already run\u001b[39;00m\n\u001b[1;32m    166\u001b[0m \u001b[39mif\u001b[39;00m pass_ \u001b[39mnot\u001b[39;00m \u001b[39min\u001b[39;00m \u001b[39mself\u001b[39m\u001b[39m.\u001b[39mvalid_passes:\n\u001b[0;32m--> 167\u001b[0m     dag \u001b[39m=\u001b[39m \u001b[39mself\u001b[39;49m\u001b[39m.\u001b[39;49m_run_this_pass(pass_, dag)\n\u001b[1;32m    169\u001b[0m     \u001b[39m# update the valid_passes property\u001b[39;00m\n\u001b[1;32m    170\u001b[0m     \u001b[39mself\u001b[39m\u001b[39m.\u001b[39m_update_valid_passes(pass_)\n",
      "File \u001b[0;32m~/.local/lib/python3.8/site-packages/qiskit/transpiler/runningpassmanager.py:196\u001b[0m, in \u001b[0;36mRunningPassManager._run_this_pass\u001b[0;34m(self, pass_, dag)\u001b[0m\n\u001b[1;32m    193\u001b[0m \u001b[39mif\u001b[39;00m pass_\u001b[39m.\u001b[39mis_transformation_pass:\n\u001b[1;32m    194\u001b[0m     \u001b[39m# Measure time if we have a callback or logging set\u001b[39;00m\n\u001b[1;32m    195\u001b[0m     start_time \u001b[39m=\u001b[39m time()\n\u001b[0;32m--> 196\u001b[0m     new_dag \u001b[39m=\u001b[39m pass_\u001b[39m.\u001b[39;49mrun(dag)\n\u001b[1;32m    197\u001b[0m     end_time \u001b[39m=\u001b[39m time()\n\u001b[1;32m    198\u001b[0m     run_time \u001b[39m=\u001b[39m end_time \u001b[39m-\u001b[39m start_time\n",
      "File \u001b[0;32m~/.local/lib/python3.8/site-packages/qiskit/transpiler/passes/basis/basis_translator.py:192\u001b[0m, in \u001b[0;36mBasisTranslator.run\u001b[0;34m(self, dag)\u001b[0m\n\u001b[1;32m    189\u001b[0m \u001b[39m# Compose found path into a set of instruction substitution rules.\u001b[39;00m\n\u001b[1;32m    191\u001b[0m compose_start_time \u001b[39m=\u001b[39m time\u001b[39m.\u001b[39mtime()\n\u001b[0;32m--> 192\u001b[0m instr_map \u001b[39m=\u001b[39m _compose_transforms(basis_transforms, source_basis, dag)\n\u001b[1;32m    193\u001b[0m extra_instr_map \u001b[39m=\u001b[39m {\n\u001b[1;32m    194\u001b[0m     qarg: _compose_transforms(transforms, qargs_local_source_basis[qarg], dag)\n\u001b[1;32m    195\u001b[0m     \u001b[39mfor\u001b[39;00m qarg, transforms \u001b[39min\u001b[39;00m qarg_local_basis_transforms\u001b[39m.\u001b[39mitems()\n\u001b[1;32m    196\u001b[0m }\n\u001b[1;32m    198\u001b[0m compose_end_time \u001b[39m=\u001b[39m time\u001b[39m.\u001b[39mtime()\n",
      "File \u001b[0;32m~/.local/lib/python3.8/site-packages/qiskit/transpiler/passes/basis/basis_translator.py:563\u001b[0m, in \u001b[0;36m_compose_transforms\u001b[0;34m(basis_transforms, source_basis, source_dag)\u001b[0m\n\u001b[1;32m    561\u001b[0m     qr \u001b[39m=\u001b[39m QuantumRegister(gate_num_qubits)\n\u001b[1;32m    562\u001b[0m     dag\u001b[39m.\u001b[39madd_qreg(qr)\n\u001b[0;32m--> 563\u001b[0m     dag\u001b[39m.\u001b[39;49mapply_operation_back(placeholder_gate, qr[:], [])\n\u001b[1;32m    564\u001b[0m     mapped_instrs[gate_name, gate_num_qubits] \u001b[39m=\u001b[39m placeholder_params, dag\n\u001b[1;32m    566\u001b[0m \u001b[39mfor\u001b[39;00m gate_name, gate_num_qubits, equiv_params, equiv \u001b[39min\u001b[39;00m basis_transforms:\n",
      "File \u001b[0;32m~/.local/lib/python3.8/site-packages/qiskit/dagcircuit/dagcircuit.py:572\u001b[0m, in \u001b[0;36mDAGCircuit.apply_operation_back\u001b[0;34m(self, op, qargs, cargs)\u001b[0m\n\u001b[1;32m    566\u001b[0m \u001b[39m# Add new in-edges from predecessors of the output nodes to the\u001b[39;00m\n\u001b[1;32m    567\u001b[0m \u001b[39m# operation node while deleting the old in-edges of the output nodes\u001b[39;00m\n\u001b[1;32m    568\u001b[0m \u001b[39m# and adding new edges from the operation node to each output node\u001b[39;00m\n\u001b[1;32m    570\u001b[0m al \u001b[39m=\u001b[39m [qargs, all_cbits]\n\u001b[1;32m    571\u001b[0m \u001b[39mself\u001b[39m\u001b[39m.\u001b[39m_multi_graph\u001b[39m.\u001b[39minsert_node_on_in_edges_multiple(\n\u001b[0;32m--> 572\u001b[0m     node_index, [\u001b[39mself\u001b[39m\u001b[39m.\u001b[39moutput_map[q]\u001b[39m.\u001b[39m_node_id \u001b[39mfor\u001b[39;00m q \u001b[39min\u001b[39;00m itertools\u001b[39m.\u001b[39mchain(\u001b[39m*\u001b[39mal)]\n\u001b[1;32m    573\u001b[0m )\n\u001b[1;32m    574\u001b[0m \u001b[39mreturn\u001b[39;00m \u001b[39mself\u001b[39m\u001b[39m.\u001b[39m_multi_graph[node_index]\n",
      "File \u001b[0;32m~/.local/lib/python3.8/site-packages/qiskit/dagcircuit/dagcircuit.py:572\u001b[0m, in \u001b[0;36m<listcomp>\u001b[0;34m(.0)\u001b[0m\n\u001b[1;32m    566\u001b[0m \u001b[39m# Add new in-edges from predecessors of the output nodes to the\u001b[39;00m\n\u001b[1;32m    567\u001b[0m \u001b[39m# operation node while deleting the old in-edges of the output nodes\u001b[39;00m\n\u001b[1;32m    568\u001b[0m \u001b[39m# and adding new edges from the operation node to each output node\u001b[39;00m\n\u001b[1;32m    570\u001b[0m al \u001b[39m=\u001b[39m [qargs, all_cbits]\n\u001b[1;32m    571\u001b[0m \u001b[39mself\u001b[39m\u001b[39m.\u001b[39m_multi_graph\u001b[39m.\u001b[39minsert_node_on_in_edges_multiple(\n\u001b[0;32m--> 572\u001b[0m     node_index, [\u001b[39mself\u001b[39m\u001b[39m.\u001b[39moutput_map[q]\u001b[39m.\u001b[39m_node_id \u001b[39mfor\u001b[39;00m q \u001b[39min\u001b[39;00m itertools\u001b[39m.\u001b[39mchain(\u001b[39m*\u001b[39mal)]\n\u001b[1;32m    573\u001b[0m )\n\u001b[1;32m    574\u001b[0m \u001b[39mreturn\u001b[39;00m \u001b[39mself\u001b[39m\u001b[39m.\u001b[39m_multi_graph[node_index]\n",
      "\u001b[0;31mKeyboardInterrupt\u001b[0m: "
     ]
    },
    {
     "data": {
      "text/plain": [
       "<Figure size 432x288 with 0 Axes>"
      ]
     },
     "metadata": {},
     "output_type": "display_data"
    }
   ],
   "source": [
    "import matplotlib.pyplot as plt\n",
    "# random samples, toy data\n",
    "entries = 32\n",
    "\n",
    "x = []\n",
    "for _ in range(entries):\n",
    "    temp = [20 * random() for _ in range(4)]\n",
    "    while temp in x:\n",
    "        temp = 20 * random()\n",
    "    x.append(temp)\n",
    "\n",
    "y = [randint(0, 1) for _ in range(entries)]\n",
    "\n",
    "measured = []\n",
    "\n",
    "num_qubits = int(np.log2(len(x[0])))\n",
    "\n",
    "initial_angles = [2 * np.pi * random() for _ in range(num_qubits)]\n",
    "\n",
    "for i in range(len(x)):\n",
    "    qc = prepare_circuit(num_qubits, x[i])\n",
    "    measured.append(rotation(num_qubits, initial_angles, qc))\n",
    "    \n",
    "cost = count_costs(x, y, initial_angles, measured)\n",
    "costs = [cost]\n",
    "angles = [initial_angles]\n",
    "\n",
    "print(f\"initial parameters and costs: ({initial_angles}, {cost})\")\n",
    "i = 0\n",
    "while costs[-1] > 0.25:\n",
    "    plt.clf()\n",
    "    current_angles, current_cost = optimize_angles(angles[-1], costs[-1], x, y, num_qubits)\n",
    "    angles.append(current_angles)\n",
    "    costs.append(current_cost)\n",
    "    # print(f\"Iteration {i}: ({current_angles}, {current_cost})\")\n",
    "    \n",
    "    i += 1\n",
    "\n",
    "print(f\"Iteration {i}: ({angles[-1]}, {costs[-1]})\")"
   ]
  },
  {
   "cell_type": "code",
   "execution_count": 49,
   "metadata": {},
   "outputs": [
    {
     "data": {
      "text/plain": [
       "[<matplotlib.lines.Line2D at 0x7fd205dc1160>]"
      ]
     },
     "execution_count": 49,
     "metadata": {},
     "output_type": "execute_result"
    },
    {
     "data": {
      "image/png": "[encoded data removed]",
      "text/plain": [
       "<Figure size 432x288 with 1 Axes>"
      ]
     },
     "metadata": {
      "needs_background": "light"
     },
     "output_type": "display_data"
    }
   ],
   "source": [
    "# x = [cost for cost in costs]\n",
    "# y = [i for i in range(len(x))]\n",
    "\n",
    "# plt.plot(y, x)\n"
   ]
  },
  {
   "cell_type": "code",
   "execution_count": 54,
   "metadata": {},
   "outputs": [],
   "source": [
    "def train(x, y, max_it=300):\n",
    "    measured = []\n",
    "\n",
    "    num_qubits = int(np.log2(len(x[0])))\n",
    "\n",
    "    initial_angles = [2 * np.pi * random() for _ in range(num_qubits)]\n",
    "\n",
    "    for i in range(len(x)):\n",
    "        qc = prepare_circuit(num_qubits, x[i])\n",
    "        measured.append(rotation(num_qubits, initial_angles, qc))\n",
    "        \n",
    "    cost = count_costs(x, y, initial_angles, measured)\n",
    "    costs = [cost]\n",
    "    angles = [initial_angles]\n",
    "\n",
    "    print(f\"initial parameters and costs: ({initial_angles}, {cost})\")\n",
    "    i = 0\n",
    "    while costs[-1] > 0.25:\n",
    "        if (i > max_it):\n",
    "            break\n",
    "        # plt.clf()\n",
    "        current_angles, current_cost = optimize_angles(angles[-1], costs[-1], x, y, num_qubits)\n",
    "        angles.append(current_angles)\n",
    "        costs.append(current_cost)\n",
    "        print(f\"Iteration {i}: ({current_angles}, {current_cost})\")\n",
    "        \n",
    "        i += 1\n",
    "        \n",
    "\n",
    "    print(f\"Iteration {i}: ({angles[-1]}, {costs[-1]})\")\n",
    "    x_costs = [cost for cost in costs]\n",
    "    y_axis = [i for i in range(len(x))]\n",
    "\n",
    "    plt.plot(y_axis, x_costs)\n",
    "\n",
    "    return angles[-1]"
   ]
  },
  {
   "cell_type": "code",
   "execution_count": 59,
   "metadata": {},
   "outputs": [
    {
     "name": "stdout",
     "output_type": "stream",
     "text": [
      "Column: Sex has ['M' 'F'] unique values\n",
      "\n",
      "Column: ST_Slope has ['Up' 'Flat' 'Down'] unique values\n",
      "\n",
      "Column: ChestPainType has ['ATA' 'NAP' 'ASY' 'TA'] unique values\n",
      "\n",
      "Column: RestingECG has ['Normal' 'ST' 'LVH'] unique values\n",
      "\n",
      "Column: ExerciseAngina has ['N' 'Y'] unique values\n",
      "\n",
      "features_train <class 'list'>\n",
      "features_test <class 'list'>\n",
      "target_train <class 'list'>\n",
      "target_test <class 'list'>\n"
     ]
    }
   ],
   "source": [
    "# Fitting to data\n",
    "\n",
    "import preprocesstest as preprocess\n",
    "\n",
    "features_train, features_test, target_train, target_test = preprocess.filter(\"Data/testHeart.csv\")\n",
    "type(target_train)\n",
    "target_train =  [item for sublist in target_train for item in sublist]\n",
    "target_test = [item for sublist in target_test for item in sublist]"
   ]
  },
  {
   "cell_type": "code",
   "execution_count": 60,
   "metadata": {},
   "outputs": [
    {
     "name": "stdout",
     "output_type": "stream",
     "text": [
      "initial parameters and costs: ([1.4829780188835036, 1.7398836581923234], 0.2924049844236762)\n",
      "Iteration 0: ([1.4829780188835036, 2.0398836581923234], 0.2835683800623054)\n",
      "Iteration 1: ([1.4829780188835036, 2.3398836581923232], 0.2729540498442368)\n",
      "Iteration 2: ([1.4829780188835036, 2.639883658192323], 0.2613802180685362)\n",
      "Iteration 3: ([1.4829780188835036, 2.939883658192323], 0.2564230529595012)\n",
      "Iteration 4: ([1.4829780188835036, 3.2398836581923227], 0.2554155763239872)\n",
      "Iteration 5: ([1.1829780188835035, 3.2398836581923227], 0.2531507788161997)\n",
      "Iteration 6: ([1.1829780188835035, 2.939883658192323], 0.25104626168224314)\n",
      "Iteration 7: ([1.1829780188835035, 2.939883658192323], 0.25104626168224314)\n",
      "Iteration 8: ([1.1829780188835035, 2.939883658192323], 0.25104626168224314)\n",
      "Iteration 9: ([1.1829780188835035, 2.939883658192323], 0.25104626168224314)\n",
      "Iteration 10: ([1.1829780188835035, 2.939883658192323], 0.25104626168224314)\n",
      "Iteration 11: ([1.1829780188835035, 2.939883658192323], 0.25104626168224314)\n",
      "Iteration 12: ([1.1829780188835035, 2.939883658192323], 0.25104626168224314)\n",
      "Iteration 13: ([1.1829780188835035, 2.939883658192323], 0.25104626168224314)\n",
      "Iteration 14: ([1.1829780188835035, 2.939883658192323], 0.25104626168224314)\n",
      "Iteration 15: ([1.1829780188835035, 2.939883658192323], 0.25104626168224314)\n",
      "Iteration 16: ([1.1829780188835035, 2.939883658192323], 0.25104626168224314)\n",
      "Iteration 17: ([1.1829780188835035, 3.2398836581923227], 0.25061557632398757)\n",
      "Iteration 18: ([1.1829780188835035, 3.2398836581923227], 0.25061557632398757)\n",
      "Iteration 19: ([1.1829780188835035, 3.2398836581923227], 0.25061557632398757)\n",
      "Iteration 20: ([1.1829780188835035, 3.2398836581923227], 0.25061557632398757)\n",
      "Iteration 21: ([1.1829780188835035, 3.2398836581923227], 0.25061557632398757)\n",
      "Iteration 22: ([1.1829780188835035, 3.2398836581923227], 0.25061557632398757)\n",
      "Iteration 23: ([1.1829780188835035, 3.2398836581923227], 0.25061557632398757)\n"
     ]
    },
    {
     "ename": "KeyboardInterrupt",
     "evalue": "",
     "output_type": "error",
     "traceback": [
      "\u001b[0;31m---------------------------------------------------------------------------\u001b[0m",
      "\u001b[0;31mKeyboardInterrupt\u001b[0m                         Traceback (most recent call last)",
      "\u001b[1;32m/home/ace/scripts/quantum_final_project/FINAL_NOTEBOOK.ipynb Cell 10\u001b[0m in \u001b[0;36m<cell line: 1>\u001b[0;34m()\u001b[0m\n\u001b[0;32m----> <a href='vscode-notebook-cell:/home/ace/scripts/quantum_final_project/FINAL_NOTEBOOK.ipynb#ch0000009?line=0'>1</a>\u001b[0m final_angles \u001b[39m=\u001b[39m train(features_train, target_train)\n",
      "\u001b[1;32m/home/ace/scripts/quantum_final_project/FINAL_NOTEBOOK.ipynb Cell 10\u001b[0m in \u001b[0;36mtrain\u001b[0;34m(x, y, max_it)\u001b[0m\n\u001b[1;32m     <a href='vscode-notebook-cell:/home/ace/scripts/quantum_final_project/FINAL_NOTEBOOK.ipynb#ch0000009?line=19'>20</a>\u001b[0m     \u001b[39mbreak\u001b[39;00m\n\u001b[1;32m     <a href='vscode-notebook-cell:/home/ace/scripts/quantum_final_project/FINAL_NOTEBOOK.ipynb#ch0000009?line=20'>21</a>\u001b[0m \u001b[39m# plt.clf()\u001b[39;00m\n\u001b[0;32m---> <a href='vscode-notebook-cell:/home/ace/scripts/quantum_final_project/FINAL_NOTEBOOK.ipynb#ch0000009?line=21'>22</a>\u001b[0m current_angles, current_cost \u001b[39m=\u001b[39m optimize_angles(angles[\u001b[39m-\u001b[39;49m\u001b[39m1\u001b[39;49m], costs[\u001b[39m-\u001b[39;49m\u001b[39m1\u001b[39;49m], x, y, num_qubits)\n\u001b[1;32m     <a href='vscode-notebook-cell:/home/ace/scripts/quantum_final_project/FINAL_NOTEBOOK.ipynb#ch0000009?line=22'>23</a>\u001b[0m angles\u001b[39m.\u001b[39mappend(current_angles)\n\u001b[1;32m     <a href='vscode-notebook-cell:/home/ace/scripts/quantum_final_project/FINAL_NOTEBOOK.ipynb#ch0000009?line=23'>24</a>\u001b[0m costs\u001b[39m.\u001b[39mappend(current_cost)\n",
      "\u001b[1;32m/home/ace/scripts/quantum_final_project/FINAL_NOTEBOOK.ipynb Cell 10\u001b[0m in \u001b[0;36moptimize_angles\u001b[0;34m(angles, cost, x_values, y_values, num_qubits, delta, learning_rate)\u001b[0m\n\u001b[1;32m     <a href='vscode-notebook-cell:/home/ace/scripts/quantum_final_project/FINAL_NOTEBOOK.ipynb#ch0000009?line=16'>17</a>\u001b[0m step_down \u001b[39m=\u001b[39m [j \u001b[39mfor\u001b[39;00m j \u001b[39min\u001b[39;00m angles]\n\u001b[1;32m     <a href='vscode-notebook-cell:/home/ace/scripts/quantum_final_project/FINAL_NOTEBOOK.ipynb#ch0000009?line=17'>18</a>\u001b[0m step_down[i] \u001b[39m-\u001b[39m\u001b[39m=\u001b[39m delta\n\u001b[0;32m---> <a href='vscode-notebook-cell:/home/ace/scripts/quantum_final_project/FINAL_NOTEBOOK.ipynb#ch0000009?line=19'>20</a>\u001b[0m cost_up \u001b[39m=\u001b[39m cost_across_x(num_qubits, x_values, y_values, step_up)\n\u001b[1;32m     <a href='vscode-notebook-cell:/home/ace/scripts/quantum_final_project/FINAL_NOTEBOOK.ipynb#ch0000009?line=20'>21</a>\u001b[0m cost_down \u001b[39m=\u001b[39m cost_across_x(num_qubits, x_values, y_values, step_down)\n\u001b[1;32m     <a href='vscode-notebook-cell:/home/ace/scripts/quantum_final_project/FINAL_NOTEBOOK.ipynb#ch0000009?line=22'>23</a>\u001b[0m \u001b[39m# angle_delta = (cost_up - cost_down) / (2 * delta)\u001b[39;00m\n\u001b[1;32m     <a href='vscode-notebook-cell:/home/ace/scripts/quantum_final_project/FINAL_NOTEBOOK.ipynb#ch0000009?line=23'>24</a>\u001b[0m \u001b[39m# new_angles.append(angles[i] - delta * angle_delta)\u001b[39;00m\n",
      "\u001b[1;32m/home/ace/scripts/quantum_final_project/FINAL_NOTEBOOK.ipynb Cell 10\u001b[0m in \u001b[0;36mcost_across_x\u001b[0;34m(num_qubits, x, y, angles)\u001b[0m\n\u001b[1;32m      <a href='vscode-notebook-cell:/home/ace/scripts/quantum_final_project/FINAL_NOTEBOOK.ipynb#ch0000009?line=2'>3</a>\u001b[0m \u001b[39mfor\u001b[39;00m i \u001b[39min\u001b[39;00m x:\n\u001b[1;32m      <a href='vscode-notebook-cell:/home/ace/scripts/quantum_final_project/FINAL_NOTEBOOK.ipynb#ch0000009?line=3'>4</a>\u001b[0m     qc \u001b[39m=\u001b[39m prepare_circuit(num_qubits, i)\n\u001b[0;32m----> <a href='vscode-notebook-cell:/home/ace/scripts/quantum_final_project/FINAL_NOTEBOOK.ipynb#ch0000009?line=4'>5</a>\u001b[0m     measured\u001b[39m.\u001b[39mappend(rotation(num_qubits, angles, qc))\n\u001b[1;32m      <a href='vscode-notebook-cell:/home/ace/scripts/quantum_final_project/FINAL_NOTEBOOK.ipynb#ch0000009?line=5'>6</a>\u001b[0m cost_count \u001b[39m=\u001b[39m count_costs(x, y, angles, measured)\n\u001b[1;32m      <a href='vscode-notebook-cell:/home/ace/scripts/quantum_final_project/FINAL_NOTEBOOK.ipynb#ch0000009?line=6'>7</a>\u001b[0m \u001b[39mreturn\u001b[39;00m cost_count\n",
      "\u001b[1;32m/home/ace/scripts/quantum_final_project/FINAL_NOTEBOOK.ipynb Cell 10\u001b[0m in \u001b[0;36mrotation\u001b[0;34m(num_qubits, angles, qc)\u001b[0m\n\u001b[1;32m     <a href='vscode-notebook-cell:/home/ace/scripts/quantum_final_project/FINAL_NOTEBOOK.ipynb#ch0000009?line=58'>59</a>\u001b[0m qc\u001b[39m.\u001b[39mmeasure_all()\n\u001b[1;32m     <a href='vscode-notebook-cell:/home/ace/scripts/quantum_final_project/FINAL_NOTEBOOK.ipynb#ch0000009?line=59'>60</a>\u001b[0m s \u001b[39m=\u001b[39m \u001b[39m100\u001b[39m\n\u001b[0;32m---> <a href='vscode-notebook-cell:/home/ace/scripts/quantum_final_project/FINAL_NOTEBOOK.ipynb#ch0000009?line=60'>61</a>\u001b[0m shots \u001b[39m=\u001b[39m process_output(qc, \u001b[39m100\u001b[39;49m)\n\u001b[1;32m     <a href='vscode-notebook-cell:/home/ace/scripts/quantum_final_project/FINAL_NOTEBOOK.ipynb#ch0000009?line=62'>63</a>\u001b[0m parity_processed \u001b[39m=\u001b[39m parity_probabilities(shots) \u001b[39m# processes with respect to parity\u001b[39;00m\n\u001b[1;32m     <a href='vscode-notebook-cell:/home/ace/scripts/quantum_final_project/FINAL_NOTEBOOK.ipynb#ch0000009?line=63'>64</a>\u001b[0m \u001b[39mreturn\u001b[39;00m parity_processed\n",
      "\u001b[1;32m/home/ace/scripts/quantum_final_project/FINAL_NOTEBOOK.ipynb Cell 10\u001b[0m in \u001b[0;36mprocess_output\u001b[0;34m(circuit, s)\u001b[0m\n\u001b[1;32m      <a href='vscode-notebook-cell:/home/ace/scripts/quantum_final_project/FINAL_NOTEBOOK.ipynb#ch0000009?line=8'>9</a>\u001b[0m arr \u001b[39m=\u001b[39m []\n\u001b[1;32m     <a href='vscode-notebook-cell:/home/ace/scripts/quantum_final_project/FINAL_NOTEBOOK.ipynb#ch0000009?line=10'>11</a>\u001b[0m simulator \u001b[39m=\u001b[39m Aer\u001b[39m.\u001b[39mget_backend(\u001b[39m'\u001b[39m\u001b[39maer_simulator\u001b[39m\u001b[39m'\u001b[39m)\n\u001b[0;32m---> <a href='vscode-notebook-cell:/home/ace/scripts/quantum_final_project/FINAL_NOTEBOOK.ipynb#ch0000009?line=12'>13</a>\u001b[0m job \u001b[39m=\u001b[39m execute(circuit, simulator, shots\u001b[39m=\u001b[39;49ms)\n\u001b[1;32m     <a href='vscode-notebook-cell:/home/ace/scripts/quantum_final_project/FINAL_NOTEBOOK.ipynb#ch0000009?line=13'>14</a>\u001b[0m result \u001b[39m=\u001b[39m job\u001b[39m.\u001b[39mresult()\n\u001b[1;32m     <a href='vscode-notebook-cell:/home/ace/scripts/quantum_final_project/FINAL_NOTEBOOK.ipynb#ch0000009?line=14'>15</a>\u001b[0m counts \u001b[39m=\u001b[39m result\u001b[39m.\u001b[39mget_counts(circuit)\n",
      "File \u001b[0;32m~/.local/lib/python3.8/site-packages/qiskit/execute_function.py:299\u001b[0m, in \u001b[0;36mexecute\u001b[0;34m(experiments, backend, basis_gates, coupling_map, backend_properties, initial_layout, seed_transpiler, optimization_level, pass_manager, qobj_id, qobj_header, shots, memory, max_credits, seed_simulator, default_qubit_los, default_meas_los, qubit_lo_range, meas_lo_range, schedule_los, meas_level, meas_return, memory_slots, memory_slot_size, rep_time, rep_delay, parameter_binds, schedule_circuit, inst_map, meas_map, scheduling_method, init_qubits, **run_config)\u001b[0m\n\u001b[1;32m    296\u001b[0m     experiments \u001b[39m=\u001b[39m pass_manager\u001b[39m.\u001b[39mrun(experiments)\n\u001b[1;32m    297\u001b[0m \u001b[39melse\u001b[39;00m:\n\u001b[1;32m    298\u001b[0m     \u001b[39m# transpiling the circuits using given transpile options\u001b[39;00m\n\u001b[0;32m--> 299\u001b[0m     experiments \u001b[39m=\u001b[39m transpile(\n\u001b[1;32m    300\u001b[0m         experiments,\n\u001b[1;32m    301\u001b[0m         basis_gates\u001b[39m=\u001b[39;49mbasis_gates,\n\u001b[1;32m    302\u001b[0m         coupling_map\u001b[39m=\u001b[39;49mcoupling_map,\n\u001b[1;32m    303\u001b[0m         backend_properties\u001b[39m=\u001b[39;49mbackend_properties,\n\u001b[1;32m    304\u001b[0m         initial_layout\u001b[39m=\u001b[39;49minitial_layout,\n\u001b[1;32m    305\u001b[0m         seed_transpiler\u001b[39m=\u001b[39;49mseed_transpiler,\n\u001b[1;32m    306\u001b[0m         optimization_level\u001b[39m=\u001b[39;49moptimization_level,\n\u001b[1;32m    307\u001b[0m         backend\u001b[39m=\u001b[39;49mbackend,\n\u001b[1;32m    308\u001b[0m     )\n\u001b[1;32m    310\u001b[0m \u001b[39mif\u001b[39;00m schedule_circuit:\n\u001b[1;32m    311\u001b[0m     experiments \u001b[39m=\u001b[39m schedule(\n\u001b[1;32m    312\u001b[0m         circuits\u001b[39m=\u001b[39mexperiments,\n\u001b[1;32m    313\u001b[0m         backend\u001b[39m=\u001b[39mbackend,\n\u001b[0;32m   (...)\u001b[0m\n\u001b[1;32m    316\u001b[0m         method\u001b[39m=\u001b[39mscheduling_method,\n\u001b[1;32m    317\u001b[0m     )\n",
      "File \u001b[0;32m~/.local/lib/python3.8/site-packages/qiskit/compiler/transpiler.py:339\u001b[0m, in \u001b[0;36mtranspile\u001b[0;34m(circuits, backend, basis_gates, inst_map, coupling_map, backend_properties, initial_layout, layout_method, routing_method, translation_method, scheduling_method, instruction_durations, dt, approximation_degree, timing_constraints, seed_transpiler, optimization_level, callback, output_name, unitary_synthesis_method, unitary_synthesis_plugin_config, target)\u001b[0m\n\u001b[1;32m    337\u001b[0m output_circuits \u001b[39m=\u001b[39m []\n\u001b[1;32m    338\u001b[0m \u001b[39mfor\u001b[39;00m circuit, unique_args \u001b[39min\u001b[39;00m \u001b[39mzip\u001b[39m(circuits, unique_transpile_args):\n\u001b[0;32m--> 339\u001b[0m     transpile_config, pass_manager \u001b[39m=\u001b[39m _combine_args(shared_args, unique_args)\n\u001b[1;32m    340\u001b[0m     output_circuits\u001b[39m.\u001b[39mappend(\n\u001b[1;32m    341\u001b[0m         _serial_transpile_circuit(\n\u001b[1;32m    342\u001b[0m             circuit,\n\u001b[0;32m   (...)\u001b[0m\n\u001b[1;32m    349\u001b[0m         )\n\u001b[1;32m    350\u001b[0m     )\n\u001b[1;32m    351\u001b[0m circuits \u001b[39m=\u001b[39m output_circuits\n",
      "File \u001b[0;32m~/.local/lib/python3.8/site-packages/qiskit/compiler/transpiler.py:415\u001b[0m, in \u001b[0;36m_combine_args\u001b[0;34m(shared_transpiler_args, unique_config)\u001b[0m\n\u001b[1;32m    413\u001b[0m     pass_manager \u001b[39m=\u001b[39m level_0_pass_manager(pass_manager_config)\n\u001b[1;32m    414\u001b[0m \u001b[39melif\u001b[39;00m level \u001b[39m==\u001b[39m \u001b[39m1\u001b[39m:\n\u001b[0;32m--> 415\u001b[0m     pass_manager \u001b[39m=\u001b[39m level_1_pass_manager(pass_manager_config)\n\u001b[1;32m    416\u001b[0m \u001b[39melif\u001b[39;00m level \u001b[39m==\u001b[39m \u001b[39m2\u001b[39m:\n\u001b[1;32m    417\u001b[0m     pass_manager \u001b[39m=\u001b[39m level_2_pass_manager(pass_manager_config)\n",
      "File \u001b[0;32m~/.local/lib/python3.8/site-packages/qiskit/transpiler/preset_passmanagers/level1.py:193\u001b[0m, in \u001b[0;36mlevel_1_pass_manager\u001b[0;34m(pass_manager_config)\u001b[0m\n\u001b[1;32m    190\u001b[0m \u001b[39mdef\u001b[39;00m \u001b[39m_opt_control\u001b[39m(property_set):\n\u001b[1;32m    191\u001b[0m     \u001b[39mreturn\u001b[39;00m (\u001b[39mnot\u001b[39;00m property_set[\u001b[39m\"\u001b[39m\u001b[39mdepth_fixed_point\u001b[39m\u001b[39m\"\u001b[39m]) \u001b[39mor\u001b[39;00m (\u001b[39mnot\u001b[39;00m property_set[\u001b[39m\"\u001b[39m\u001b[39msize_fixed_point\u001b[39m\u001b[39m\"\u001b[39m])\n\u001b[0;32m--> 193\u001b[0m _opt \u001b[39m=\u001b[39m [Optimize1qGatesDecomposition(basis_gates), CXCancellation()]\n\u001b[1;32m    195\u001b[0m unroll_3q \u001b[39m=\u001b[39m \u001b[39mNone\u001b[39;00m\n\u001b[1;32m    196\u001b[0m \u001b[39m# Build full pass manager\u001b[39;00m\n",
      "File \u001b[0;32m~/.local/lib/python3.8/site-packages/qiskit/transpiler/basepasses.py:29\u001b[0m, in \u001b[0;36mMetaPass.__call__\u001b[0;34m(cls, *args, **kwargs)\u001b[0m\n\u001b[1;32m     28\u001b[0m \u001b[39mdef\u001b[39;00m \u001b[39m__call__\u001b[39m(\u001b[39mcls\u001b[39m, \u001b[39m*\u001b[39margs, \u001b[39m*\u001b[39m\u001b[39m*\u001b[39mkwargs):\n\u001b[0;32m---> 29\u001b[0m     pass_instance \u001b[39m=\u001b[39m \u001b[39mtype\u001b[39;49m\u001b[39m.\u001b[39;49m\u001b[39m__call__\u001b[39;49m(\u001b[39mcls\u001b[39;49m, \u001b[39m*\u001b[39;49margs, \u001b[39m*\u001b[39;49m\u001b[39m*\u001b[39;49mkwargs)\n\u001b[1;32m     30\u001b[0m     pass_instance\u001b[39m.\u001b[39m_hash \u001b[39m=\u001b[39m \u001b[39mhash\u001b[39m(MetaPass\u001b[39m.\u001b[39m_freeze_init_parameters(\u001b[39mcls\u001b[39m, args, kwargs))\n\u001b[1;32m     31\u001b[0m     \u001b[39mreturn\u001b[39;00m pass_instance\n",
      "File \u001b[0;32m~/.local/lib/python3.8/site-packages/qiskit/transpiler/passes/optimization/optimize_1q_decomposition.py:46\u001b[0m, in \u001b[0;36mOptimize1qGatesDecomposition.__init__\u001b[0;34m(self, basis)\u001b[0m\n\u001b[1;32m     44\u001b[0m \u001b[39mif\u001b[39;00m basis:\n\u001b[1;32m     45\u001b[0m     \u001b[39mself\u001b[39m\u001b[39m.\u001b[39m_decomposers \u001b[39m=\u001b[39m {}\n\u001b[0;32m---> 46\u001b[0m     basis_set \u001b[39m=\u001b[39m \u001b[39mset\u001b[39;49m(basis)\n\u001b[1;32m     47\u001b[0m     euler_basis_gates \u001b[39m=\u001b[39m one_qubit_decompose\u001b[39m.\u001b[39mONE_QUBIT_EULER_BASIS_GATES\n\u001b[1;32m     48\u001b[0m     \u001b[39mfor\u001b[39;00m euler_basis_name, gates \u001b[39min\u001b[39;00m euler_basis_gates\u001b[39m.\u001b[39mitems():\n",
      "\u001b[0;31mKeyboardInterrupt\u001b[0m: "
     ]
    }
   ],
   "source": [
    "final_angles = train(features_train, target_train)\n",
    "# measured = []\n",
    "\n",
    "# num_qubits = int(np.log2(len(features_train[0])))\n",
    "\n",
    "# initial_angles = [2 * np.pi * random() for _ in range(num_qubits)]\n",
    "\n",
    "# for i in range(len(features_train)):\n",
    "#     qc = prepare_circuit(num_qubits, features_train[i])\n",
    "#     measured.append(rotation(num_qubits, initial_angles, qc))\n",
    "\n",
    "# mse(measured[0], target_train[0])\n",
    "# cost = count_costs(features_train, target_train, initial_angles, measured)\n"
   ]
  },
  {
   "cell_type": "code",
   "execution_count": null,
   "metadata": {},
   "outputs": [],
   "source": []
  }
 ],
 "metadata": {
  "kernelspec": {
   "display_name": "Python 3.8.10 64-bit",
   "language": "python",
   "name": "python3"
  },
  "language_info": {
   "codemirror_mode": {
    "name": "ipython",
    "version": 3
   },
   "file_extension": ".py",
   "mimetype": "text/x-python",
   "name": "python",
   "nbconvert_exporter": "python",
   "pygments_lexer": "ipython3",
   "version": "3.8.10"
  },
  "orig_nbformat": 4,
  "vscode": {
   "interpreter": {
    "hash": "916dbcbb3f70747c44a77c7bcd40155683ae19c65e1c03b4aa3499c5328201f1"
   }
  }
 },
 "nbformat": 4,
 "nbformat_minor": 2
}
